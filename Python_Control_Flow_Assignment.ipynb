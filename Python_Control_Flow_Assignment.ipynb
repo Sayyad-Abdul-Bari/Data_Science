{
 "cells": [
  {
   "cell_type": "markdown",
   "metadata": {},
   "source": [
    "# Basic If-else statements"
   ]
  },
  {
   "cell_type": "markdown",
   "metadata": {},
   "source": [
    "1. Write a Python program to check if a given number is positive or negative."
   ]
  },
  {
   "cell_type": "code",
   "execution_count": 3,
   "metadata": {},
   "outputs": [
    {
     "name": "stdin",
     "output_type": "stream",
     "text": [
      "Enter a number:  -23\n"
     ]
    },
    {
     "name": "stdout",
     "output_type": "stream",
     "text": [
      "The number is negative.\n"
     ]
    }
   ],
   "source": [
    "# Input\n",
    "number = float(input(\"Enter a number: \"))\n",
    "\n",
    "# Check if the number is positive, negative, or zero\n",
    "if number > 0:\n",
    "    print(\"The number is positive.\")\n",
    "elif number < 0:\n",
    "    print(\"The number is negative.\")\n",
    "else:\n",
    "    print(\"The number is zero.\")"
   ]
  },
  {
   "cell_type": "markdown",
   "metadata": {},
   "source": [
    "2. Create a program that determines if a person is eligible to vote based on their age."
   ]
  },
  {
   "cell_type": "code",
   "execution_count": 5,
   "metadata": {},
   "outputs": [
    {
     "name": "stdin",
     "output_type": "stream",
     "text": [
      "Enter your age:  28\n"
     ]
    },
    {
     "name": "stdout",
     "output_type": "stream",
     "text": [
      "You are eligible to vote.\n"
     ]
    }
   ],
   "source": [
    "# Input\n",
    "age = int(input(\"Enter your age: \"))\n",
    "\n",
    "# Check eligibility to vote\n",
    "voting_age = 18  # You can change this to the voting age in your country\n",
    "\n",
    "if age >= voting_age:\n",
    "    print(\"You are eligible to vote.\")\n",
    "else:\n",
    "    print(\"You are not eligible to vote.\")\n"
   ]
  },
  {
   "cell_type": "markdown",
   "metadata": {},
   "source": [
    "3. Develop a program to find the maximum of two numbers using if-else statements."
   ]
  },
  {
   "cell_type": "code",
   "execution_count": 7,
   "metadata": {},
   "outputs": [
    {
     "name": "stdin",
     "output_type": "stream",
     "text": [
      "Enter the first number:  23\n",
      "Enter the second number:  -23\n"
     ]
    },
    {
     "name": "stdout",
     "output_type": "stream",
     "text": [
      "The maximum number between 23.0 and -23.0 is 23.0.\n"
     ]
    }
   ],
   "source": [
    "# Input\n",
    "num1 = float(input(\"Enter the first number: \"))\n",
    "num2 = float(input(\"Enter the second number: \"))\n",
    "\n",
    "# Find the maximum of the two numbers\n",
    "if num1 > num2:\n",
    "    max_num = num1\n",
    "else:\n",
    "    max_num = num2\n",
    "\n",
    "# Display the result\n",
    "print(f\"The maximum number between {num1} and {num2} is {max_num}.\")\n"
   ]
  },
  {
   "cell_type": "markdown",
   "metadata": {},
   "source": [
    "4. Write a Python script to classify a given year as a leap year or not."
   ]
  },
  {
   "cell_type": "code",
   "execution_count": 9,
   "metadata": {},
   "outputs": [
    {
     "name": "stdin",
     "output_type": "stream",
     "text": [
      "Enter a year:  2000\n"
     ]
    },
    {
     "name": "stdout",
     "output_type": "stream",
     "text": [
      "2000 is a leap year.\n"
     ]
    }
   ],
   "source": [
    "# Input\n",
    "year = int(input(\"Enter a year: \"))\n",
    "\n",
    "# Check if it's a leap year\n",
    "if (year % 4 == 0 and year % 100 != 0) or (year % 400 == 0):\n",
    "    print(f\"{year} is a leap year.\")\n",
    "else:\n",
    "    print(f\"{year} is not a leap year.\")\n"
   ]
  },
  {
   "cell_type": "markdown",
   "metadata": {},
   "source": [
    "5. Create a program that checks whether a character is a vowel or a consonant."
   ]
  },
  {
   "cell_type": "code",
   "execution_count": 11,
   "metadata": {},
   "outputs": [
    {
     "name": "stdin",
     "output_type": "stream",
     "text": [
      "Enter a character:  s\n"
     ]
    },
    {
     "name": "stdout",
     "output_type": "stream",
     "text": [
      "s is a consonant.\n"
     ]
    }
   ],
   "source": [
    "# Input\n",
    "character = input(\"Enter a character: \")\n",
    "\n",
    "# Check if it's a vowel or consonant\n",
    "if len(character) == 1 and character.isalpha():\n",
    "    # Convert the character to lowercase for case insensitivity\n",
    "    character = character.lower()\n",
    "    \n",
    "    if character in ['a', 'e', 'i', 'o', 'u']:\n",
    "        print(f\"{character} is a vowel.\")\n",
    "    else:\n",
    "        print(f\"{character} is a consonant.\")\n",
    "else:\n",
    "    print(\"Please enter a single alphabet character.\")\n"
   ]
  },
  {
   "cell_type": "markdown",
   "metadata": {},
   "source": [
    "6. Implement a program to determine whether a given number is even or odd."
   ]
  },
  {
   "cell_type": "code",
   "execution_count": 13,
   "metadata": {},
   "outputs": [
    {
     "name": "stdin",
     "output_type": "stream",
     "text": [
      "Enter a number:  22\n"
     ]
    },
    {
     "name": "stdout",
     "output_type": "stream",
     "text": [
      "22 is an even number.\n"
     ]
    }
   ],
   "source": [
    "# Input\n",
    "number = int(input(\"Enter a number: \"))\n",
    "\n",
    "# Check if the number is even or odd\n",
    "if number % 2 == 0:\n",
    "    print(f\"{number} is an even number.\")\n",
    "else:\n",
    "    print(f\"{number} is an odd number.\")\n"
   ]
  },
  {
   "cell_type": "markdown",
   "metadata": {},
   "source": [
    "7. Write a Python function to calculate the absolute value of a number without using the `abs()` function."
   ]
  },
  {
   "cell_type": "code",
   "execution_count": 18,
   "metadata": {},
   "outputs": [
    {
     "name": "stdin",
     "output_type": "stream",
     "text": [
      "Enter a number:  -23\n"
     ]
    },
    {
     "name": "stdout",
     "output_type": "stream",
     "text": [
      "The absolute value of -23.0 is 23.0.\n"
     ]
    }
   ],
   "source": [
    "# Input\n",
    "number = float(input(\"Enter a number: \"))\n",
    "\n",
    "# Calculate the absolute value without using the abs() function\n",
    "if number < 0:\n",
    "    absolute_value = -number\n",
    "else:\n",
    "    absolute_value = number\n",
    "\n",
    "# Display the result\n",
    "print(f\"The absolute value of {number} is {absolute_value}.\")\n"
   ]
  },
  {
   "cell_type": "markdown",
   "metadata": {},
   "source": [
    "8. Develop a program that determines the largest of three given numbers using if-else statements."
   ]
  },
  {
   "cell_type": "code",
   "execution_count": 20,
   "metadata": {},
   "outputs": [
    {
     "name": "stdin",
     "output_type": "stream",
     "text": [
      "Enter the first number:  32\n",
      "Enter the second number:  0\n",
      "Enter the third number:  -23\n"
     ]
    },
    {
     "name": "stdout",
     "output_type": "stream",
     "text": [
      "The largest number among 32.0, 0.0, and -23.0 is 32.0.\n"
     ]
    }
   ],
   "source": [
    "# Input\n",
    "num1 = float(input(\"Enter the first number: \"))\n",
    "num2 = float(input(\"Enter the second number: \"))\n",
    "num3 = float(input(\"Enter the third number: \"))\n",
    "\n",
    "# Determine the largest number\n",
    "if num1 >= num2 and num1 >= num3:\n",
    "    largest = num1\n",
    "elif num2 >= num1 and num2 >= num3:\n",
    "    largest = num2\n",
    "else:\n",
    "    largest = num3\n",
    "\n",
    "# Display the result\n",
    "print(f\"The largest number among {num1}, {num2}, and {num3} is {largest}.\")\n"
   ]
  },
  {
   "cell_type": "markdown",
   "metadata": {},
   "source": [
    "9. Create a program that checks if a given string is a palindrome."
   ]
  },
  {
   "cell_type": "code",
   "execution_count": 22,
   "metadata": {},
   "outputs": [
    {
     "name": "stdin",
     "output_type": "stream",
     "text": [
      "Enter a string:  Abdba\n"
     ]
    },
    {
     "name": "stdout",
     "output_type": "stream",
     "text": [
      "'Abdba' is a palindrome.\n"
     ]
    }
   ],
   "source": [
    "# Input\n",
    "string = input(\"Enter a string: \")\n",
    "\n",
    "# Remove spaces and convert to lowercase for case insensitivity\n",
    "cleaned_string = string.replace(\" \", \"\").lower()\n",
    "\n",
    "# Check if it's a palindrome\n",
    "if cleaned_string == cleaned_string[::-1]:\n",
    "    print(f\"'{string}' is a palindrome.\")\n",
    "else:\n",
    "    print(f\"'{string}' is not a palindrome.\")"
   ]
  },
  {
   "cell_type": "markdown",
   "metadata": {},
   "source": [
    "10. Write a Python program to calculate the grade based on a student's score."
   ]
  },
  {
   "cell_type": "code",
   "execution_count": 24,
   "metadata": {},
   "outputs": [
    {
     "name": "stdin",
     "output_type": "stream",
     "text": [
      "Enter the student's score:  71\n"
     ]
    },
    {
     "name": "stdout",
     "output_type": "stream",
     "text": [
      "The student's score is 71.0 and the grade is C.\n"
     ]
    }
   ],
   "source": [
    "# Input\n",
    "score = float(input(\"Enter the student's score: \"))\n",
    "\n",
    "# Calculate the grade\n",
    "if 90 <= score <= 100:\n",
    "    grade = \"A\"\n",
    "elif 80 <= score < 90:\n",
    "    grade = \"B\"\n",
    "elif 70 <= score < 80:\n",
    "    grade = \"C\"\n",
    "elif 60 <= score < 70:\n",
    "    grade = \"D\"\n",
    "elif 0 <= score < 60:\n",
    "    grade = \"F\"\n",
    "else:\n",
    "    grade = \"Invalid input (score should be between 0 and 100).\"\n",
    "\n",
    "# Display the result\n",
    "print(f\"The student's score is {score} and the grade is {grade}.\")"
   ]
  },
  {
   "cell_type": "code",
   "execution_count": null,
   "metadata": {},
   "outputs": [],
   "source": []
  },
  {
   "cell_type": "markdown",
   "metadata": {},
   "source": [
    "# Nested If-Else Statements:"
   ]
  },
  {
   "cell_type": "markdown",
   "metadata": {},
   "source": [
    "11. Write a program to find the largest among three numbers using nested if-else statements."
   ]
  },
  {
   "cell_type": "code",
   "execution_count": 26,
   "metadata": {},
   "outputs": [
    {
     "name": "stdin",
     "output_type": "stream",
     "text": [
      "Enter the first number:  32\n",
      "Enter the second number:  24\n",
      "Enter the third number:  1\n"
     ]
    },
    {
     "name": "stdout",
     "output_type": "stream",
     "text": [
      "The largest number among 32.0, 24.0, and 1.0 is 32.0.\n"
     ]
    }
   ],
   "source": [
    "# Input\n",
    "num1 = float(input(\"Enter the first number: \"))\n",
    "num2 = float(input(\"Enter the second number: \"))\n",
    "num3 = float(input(\"Enter the third number: \"))\n",
    "\n",
    "# Determine the largest number using nested if-else statements\n",
    "if num1 >= num2:\n",
    "    if num1 >= num3:\n",
    "        largest = num1\n",
    "    else:\n",
    "        largest = num3\n",
    "else:\n",
    "    if num2 >= num3:\n",
    "        largest = num2\n",
    "    else:\n",
    "        largest = num3\n",
    "\n",
    "# Display the result\n",
    "print(f\"The largest number among {num1}, {num2}, and {num3} is {largest}.\")"
   ]
  },
  {
   "cell_type": "markdown",
   "metadata": {},
   "source": [
    "12. Implement a program to determine if a triangle is equilateral, isosceles, or scalene."
   ]
  },
  {
   "cell_type": "code",
   "execution_count": 32,
   "metadata": {},
   "outputs": [
    {
     "name": "stdin",
     "output_type": "stream",
     "text": [
      "Enter the length of the first side:  22\n",
      "Enter the length of the second side:  22\n",
      "Enter the length of the third side:  22\n"
     ]
    },
    {
     "name": "stdout",
     "output_type": "stream",
     "text": [
      "It is an equilateral triangle.\n"
     ]
    }
   ],
   "source": [
    "# Input\n",
    "side1 = float(input(\"Enter the length of the first side: \"))\n",
    "side2 = float(input(\"Enter the length of the second side: \"))\n",
    "side3 = float(input(\"Enter the length of the third side: \"))\n",
    "\n",
    "# Check if it's a valid triangle\n",
    "if (side1 + side2 > side3) and (side1 + side3 > side2) and (side2 + side3 > side1):\n",
    "    # Determine the type of triangle\n",
    "    if side1 == side2 and side2 == side3:\n",
    "        print(\"It is an equilateral triangle.\")\n",
    "    elif side1 == side2 or side2 == side3 or side1 == side3:\n",
    "        print(\"It is an isosceles triangle.\")\n",
    "    else:\n",
    "        print(\"It is a scalene triangle.\")\n",
    "else:\n",
    "    print(\"It is not a valid triangle.\")"
   ]
  },
  {
   "cell_type": "markdown",
   "metadata": {},
   "source": [
    "13. Develop a program that checks if a year is a leap year and also if it is a century year."
   ]
  },
  {
   "cell_type": "code",
   "execution_count": 36,
   "metadata": {},
   "outputs": [
    {
     "name": "stdin",
     "output_type": "stream",
     "text": [
      "Enter a year:  2000\n"
     ]
    },
    {
     "name": "stdout",
     "output_type": "stream",
     "text": [
      "2000 is a leap year and a century year.\n"
     ]
    }
   ],
   "source": [
    "# Input\n",
    "year = int(input(\"Enter a year: \"))\n",
    "\n",
    "# Check if it's a leap year\n",
    "is_leap_year = False\n",
    "\n",
    "if (year % 4 == 0 and year % 100 != 0) or (year % 400 == 0):\n",
    "    is_leap_year = True\n",
    "\n",
    "# Check if it's a century year\n",
    "is_century_year = year % 100 == 0\n",
    "\n",
    "# Display the results\n",
    "if is_leap_year:\n",
    "    if is_century_year:\n",
    "        print(f\"{year} is a leap year and a century year.\")\n",
    "    else:\n",
    "        print(f\"{year} is a leap year but not a century year.\")\n",
    "else:\n",
    "    if is_century_year:\n",
    "        print(f\"{year} is not a leap year and a century year.\")\n",
    "    else:\n",
    "        print(f\"{year} is neither a leap year nor a century year.\")"
   ]
  },
  {
   "cell_type": "markdown",
   "metadata": {},
   "source": [
    "14. Write a Python script to determine if a number is positive, negative, or zero."
   ]
  },
  {
   "cell_type": "code",
   "execution_count": 38,
   "metadata": {},
   "outputs": [
    {
     "name": "stdin",
     "output_type": "stream",
     "text": [
      "Enter a number:  21\n"
     ]
    },
    {
     "name": "stdout",
     "output_type": "stream",
     "text": [
      "The number is positive.\n"
     ]
    }
   ],
   "source": [
    "# Input\n",
    "number = float(input(\"Enter a number: \"))\n",
    "\n",
    "# Check if the number is positive, negative, or zero\n",
    "if number > 0:\n",
    "    print(\"The number is positive.\")\n",
    "elif number < 0:\n",
    "    print(\"The number is negative.\")\n",
    "else:\n",
    "    print(\"The number is zero.\")"
   ]
  },
  {
   "cell_type": "markdown",
   "metadata": {},
   "source": [
    "15. Create a program to check if a person is a teenager (between 13 and 19 years old)."
   ]
  },
  {
   "cell_type": "code",
   "execution_count": 40,
   "metadata": {},
   "outputs": [
    {
     "name": "stdin",
     "output_type": "stream",
     "text": [
      "Enter your age:  15\n"
     ]
    },
    {
     "name": "stdout",
     "output_type": "stream",
     "text": [
      "You are a teenager.\n"
     ]
    }
   ],
   "source": [
    "# Input age from the user\n",
    "age = int(input(\"Enter your age: \"))\n",
    "\n",
    "# Check if the age is within the teenager range\n",
    "if 13 <= age <= 19:\n",
    "    print(\"You are a teenager.\")\n",
    "else:\n",
    "    print(\"You are not a teenager.\")"
   ]
  },
  {
   "cell_type": "markdown",
   "metadata": {},
   "source": [
    "16. Develop a program that determines the type of angle based on its measure (acute, obtuse, or right)."
   ]
  },
  {
   "cell_type": "code",
   "execution_count": 42,
   "metadata": {},
   "outputs": [
    {
     "name": "stdin",
     "output_type": "stream",
     "text": [
      "Enter the angle measure in degrees:  120\n"
     ]
    },
    {
     "name": "stdout",
     "output_type": "stream",
     "text": [
      "The angle is obtuse.\n"
     ]
    }
   ],
   "source": [
    "# Input the angle measure from the user\n",
    "angle_measure = float(input(\"Enter the angle measure in degrees: \"))\n",
    "\n",
    "# Check the type of angle\n",
    "if 0 < angle_measure < 90:\n",
    "    print(\"The angle is acute.\")\n",
    "elif angle_measure == 90:\n",
    "    print(\"The angle is a right angle.\")\n",
    "elif 90 < angle_measure < 180:\n",
    "    print(\"The angle is obtuse.\")\n",
    "else:\n",
    "    print(\"The angle is neither acute nor obtuse nor a right angle.\")"
   ]
  },
  {
   "cell_type": "markdown",
   "metadata": {},
   "source": [
    "17. Write a Python program to calculate the roots of a quadratic equation."
   ]
  },
  {
   "cell_type": "code",
   "execution_count": 44,
   "metadata": {},
   "outputs": [
    {
     "name": "stdin",
     "output_type": "stream",
     "text": [
      "Enter the coefficient a:  12\n",
      "Enter the coefficient b:  5\n",
      "Enter the coefficient c:  10\n"
     ]
    },
    {
     "name": "stdout",
     "output_type": "stream",
     "text": [
      "Two complex roots:\n",
      "Root 1 = -0.20833333333333334 + 0.8887803753208976i\n",
      "Root 2 = -0.20833333333333334 - 0.8887803753208976i\n"
     ]
    }
   ],
   "source": [
    "import math\n",
    "\n",
    "# Input coefficients a, b, and c from the user\n",
    "a = float(input(\"Enter the coefficient a: \"))\n",
    "b = float(input(\"Enter the coefficient b: \"))\n",
    "c = float(input(\"Enter the coefficient c: \"))\n",
    "\n",
    "# Calculate the discriminant\n",
    "discriminant = b**2 - 4 * a * c\n",
    "\n",
    "# Check the nature of the roots based on the discriminant\n",
    "if discriminant > 0:\n",
    "    root1 = (-b + math.sqrt(discriminant)) / (2 * a)\n",
    "    root2 = (-b - math.sqrt(discriminant)) / (2 * a)\n",
    "    print(\"Two real and distinct roots:\")\n",
    "    print(\"Root 1 =\", root1)\n",
    "    print(\"Root 2 =\", root2)\n",
    "elif discriminant == 0:\n",
    "    root1 = -b / (2 * a)\n",
    "    print(\"One real root (a repeated root):\")\n",
    "    print(\"Root =\", root1)\n",
    "else:\n",
    "    real_part = -b / (2 * a)\n",
    "    imaginary_part = math.sqrt(-discriminant) / (2 * a)\n",
    "    print(\"Two complex roots:\")\n",
    "    print(f\"Root 1 = {real_part} + {imaginary_part}i\")\n",
    "    print(f\"Root 2 = {real_part} - {imaginary_part}i\")"
   ]
  },
  {
   "cell_type": "markdown",
   "metadata": {},
   "source": [
    "18. Implement a program to determine the day of the week based on a user-provided number (1 for Monday, 2\n",
    "for Tuesday, etc.)."
   ]
  },
  {
   "cell_type": "code",
   "execution_count": 48,
   "metadata": {},
   "outputs": [
    {
     "name": "stdin",
     "output_type": "stream",
     "text": [
      "Enter a number (1 for Monday, 2 for Tuesday, etc.):  5\n"
     ]
    },
    {
     "name": "stdout",
     "output_type": "stream",
     "text": [
      "The day corresponding to the number 5 is Friday.\n"
     ]
    }
   ],
   "source": [
    "# Input a number from the user (1 for Monday, 2 for Tuesday, etc.)\n",
    "day_number = int(input(\"Enter a number (1 for Monday, 2 for Tuesday, etc.): \"))\n",
    "\n",
    "# Define a list of days of the week\n",
    "days_of_week = [\"Monday\", \"Tuesday\", \"Wednesday\", \"Thursday\", \"Friday\", \"Saturday\", \"Sunday\"]\n",
    "\n",
    "# Check if the input is within a valid range\n",
    "if 1 <= day_number <= 7:\n",
    "    day_name = days_of_week[day_number - 1]\n",
    "    print(f\"The day corresponding to the number {day_number} is {day_name}.\")\n",
    "else:\n",
    "    print(\"Invalid input. Please enter a number between 1 and 7.\")"
   ]
  },
  {
   "cell_type": "markdown",
   "metadata": {},
   "source": [
    "19. Create a program that determines if a year is a leap year and also if it is evenly divisible by 400."
   ]
  },
  {
   "cell_type": "code",
   "execution_count": 50,
   "metadata": {},
   "outputs": [
    {
     "name": "stdin",
     "output_type": "stream",
     "text": [
      "Enter a year:  1600\n"
     ]
    },
    {
     "name": "stdout",
     "output_type": "stream",
     "text": [
      "1600 is a leap year and is evenly divisible by 400.\n"
     ]
    }
   ],
   "source": [
    "# Input a year from the user\n",
    "year = int(input(\"Enter a year: \"))\n",
    "\n",
    "# Check if it's a leap year\n",
    "if (year % 4 == 0 and year % 100 != 0) or (year % 400 == 0):\n",
    "    print(f\"{year} is a leap year and is evenly divisible by 400.\")\n",
    "elif year % 4 == 0:\n",
    "    print(f\"{year} is a leap year but not evenly divisible by 400.\")\n",
    "else:\n",
    "    print(f\"{year} is not a leap year.\")\n"
   ]
  },
  {
   "cell_type": "markdown",
   "metadata": {},
   "source": [
    "20. Develop a program that checks if a given number is prime or not using nested if-else statements."
   ]
  },
  {
   "cell_type": "code",
   "execution_count": 52,
   "metadata": {},
   "outputs": [
    {
     "name": "stdin",
     "output_type": "stream",
     "text": [
      "Enter a number:  23\n"
     ]
    },
    {
     "name": "stdout",
     "output_type": "stream",
     "text": [
      "23 is a prime number.\n"
     ]
    }
   ],
   "source": [
    "# Input a number from the user\n",
    "num = int(input(\"Enter a number: \"))\n",
    "\n",
    "# Check if the number is less than 2 (not prime)\n",
    "if num < 2:\n",
    "    is_prime = False\n",
    "else:\n",
    "    is_prime = True\n",
    "\n",
    "    # Check for factors from 2 to the square root of the number\n",
    "    for i in range(2, int(num ** 0.5) + 1):\n",
    "        if num % i == 0:\n",
    "            is_prime = False\n",
    "            break\n",
    "\n",
    "# Determine and print the result\n",
    "if is_prime:\n",
    "    print(f\"{num} is a prime number.\")\n",
    "else:\n",
    "    print(f\"{num} is not a prime number.\")"
   ]
  },
  {
   "cell_type": "markdown",
   "metadata": {},
   "source": [
    "# Elif Statements "
   ]
  },
  {
   "cell_type": "markdown",
   "metadata": {},
   "source": [
    "21. Write a Python program to assign grades based on different ranges of scores using elif statements."
   ]
  },
  {
   "cell_type": "code",
   "execution_count": 54,
   "metadata": {},
   "outputs": [
    {
     "name": "stdin",
     "output_type": "stream",
     "text": [
      "Enter the student's score:  90\n"
     ]
    },
    {
     "name": "stdout",
     "output_type": "stream",
     "text": [
      "The student's grade is: A\n"
     ]
    }
   ],
   "source": [
    "# Input the student's score\n",
    "score = float(input(\"Enter the student's score: \"))\n",
    "\n",
    "# Assign grades based on score ranges\n",
    "if 90 <= score <= 100:\n",
    "    grade = \"A\"\n",
    "elif 80 <= score < 90:\n",
    "    grade = \"B\"\n",
    "elif 70 <= score < 80:\n",
    "    grade = \"C\"\n",
    "elif 60 <= score < 70:\n",
    "    grade = \"D\"\n",
    "elif 0 <= score < 60:\n",
    "    grade = \"F\"\n",
    "else:\n",
    "    grade = \"Invalid score (score should be between 0 and 100).\"\n",
    "\n",
    "# Print the assigned grade\n",
    "print(f\"The student's grade is: {grade}\")\n"
   ]
  },
  {
   "cell_type": "markdown",
   "metadata": {},
   "source": [
    "22. Implement a program to determine the type of a triangle based on its angles."
   ]
  },
  {
   "cell_type": "code",
   "execution_count": 60,
   "metadata": {},
   "outputs": [
    {
     "name": "stdin",
     "output_type": "stream",
     "text": [
      "Enter the first angle in degrees:  100\n",
      "Enter the second angle in degrees:  60\n",
      "Enter the third angle in degrees:  20\n"
     ]
    },
    {
     "name": "stdout",
     "output_type": "stream",
     "text": [
      "It is a scalene triangle.\n"
     ]
    }
   ],
   "source": [
    "# Input the angles of the triangle from the user\n",
    "angle1 = float(input(\"Enter the first angle in degrees: \"))\n",
    "angle2 = float(input(\"Enter the second angle in degrees: \"))\n",
    "angle3 = float(input(\"Enter the third angle in degrees: \"))\n",
    "\n",
    "# Check the type of triangle based on its angles\n",
    "if angle1 + angle2 + angle3 == 180:\n",
    "    if angle1 == angle2 == angle3:\n",
    "        print(\"It is an equilateral triangle.\")\n",
    "    elif angle1 == angle2 or angle2 == angle3 or angle1 == angle3:\n",
    "        print(\"It is an isosceles triangle.\")\n",
    "    else:\n",
    "        print(\"It is a scalene triangle.\")\n",
    "else:\n",
    "    print(\"These angles do not form a valid triangle.\")"
   ]
  },
  {
   "cell_type": "markdown",
   "metadata": {},
   "source": [
    "23. Develop a program to categorize a given person's BMI into underweight, normal, overweight, or obese using\n",
    "elif statements."
   ]
  },
  {
   "cell_type": "code",
   "execution_count": 62,
   "metadata": {},
   "outputs": [
    {
     "name": "stdin",
     "output_type": "stream",
     "text": [
      "Enter weight (kg):  78\n",
      "Enter height (m):  1.5\n"
     ]
    },
    {
     "name": "stdout",
     "output_type": "stream",
     "text": [
      "The person's BMI is 34.67, which is categorized as obese.\n"
     ]
    }
   ],
   "source": [
    "# Input the person's weight (in kilograms) and height (in meters) from the user\n",
    "weight = float(input(\"Enter weight (kg): \"))\n",
    "height = float(input(\"Enter height (m): \"))\n",
    "\n",
    "# Calculate BMI\n",
    "bmi = weight / (height ** 2)\n",
    "\n",
    "# Categorize the BMI using if-elif statements\n",
    "if bmi < 18.5:\n",
    "    category = \"underweight\"\n",
    "elif 18.5 <= bmi < 24.9:\n",
    "    category = \"normal\"\n",
    "elif 25 <= bmi < 29.9:\n",
    "    category = \"overweight\"\n",
    "else:\n",
    "    category = \"obese\"\n",
    "\n",
    "# Print the BMI category\n",
    "print(f\"The person's BMI is {bmi:.2f}, which is categorized as {category}.\")"
   ]
  },
  {
   "cell_type": "markdown",
   "metadata": {},
   "source": [
    "24. Create a program that determines whether a given number is positive, negative, or zero using elif\n",
    "statements."
   ]
  },
  {
   "cell_type": "code",
   "execution_count": 64,
   "metadata": {},
   "outputs": [
    {
     "name": "stdin",
     "output_type": "stream",
     "text": [
      "Enter a number:  23\n"
     ]
    },
    {
     "name": "stdout",
     "output_type": "stream",
     "text": [
      "The number is positive.\n"
     ]
    }
   ],
   "source": [
    "# Input a number from the user\n",
    "number = float(input(\"Enter a number: \"))\n",
    "\n",
    "# Check if the number is positive, negative, or zero\n",
    "if number > 0:\n",
    "    print(\"The number is positive.\")\n",
    "elif number < 0:\n",
    "    print(\"The number is negative.\")\n",
    "else:\n",
    "    print(\"The number is zero.\")"
   ]
  },
  {
   "cell_type": "markdown",
   "metadata": {},
   "source": [
    "25. Write a Python script to determine the type of a character (uppercase, lowercase, or special) using elif\n",
    "statements."
   ]
  },
  {
   "cell_type": "code",
   "execution_count": 66,
   "metadata": {},
   "outputs": [
    {
     "name": "stdin",
     "output_type": "stream",
     "text": [
      "Enter a character:  sayyad\n"
     ]
    },
    {
     "name": "stdout",
     "output_type": "stream",
     "text": [
      "The character is lowercase.\n"
     ]
    }
   ],
   "source": [
    "# Input a character from the user\n",
    "character = input(\"Enter a character: \")\n",
    "\n",
    "# Check if the character is uppercase, lowercase, or special\n",
    "if character.isalpha():\n",
    "    if character.islower():\n",
    "        print(\"The character is lowercase.\")\n",
    "    elif character.isupper():\n",
    "        print(\"The character is uppercase.\")\n",
    "else:\n",
    "    print(\"The character is a special character or digit.\")"
   ]
  },
  {
   "cell_type": "markdown",
   "metadata": {},
   "source": [
    "26. Implement a program to calculate the discounted price based on different purchase amounts using elif\n",
    "statements.    "
   ]
  },
  {
   "cell_type": "code",
   "execution_count": 68,
   "metadata": {},
   "outputs": [
    {
     "name": "stdin",
     "output_type": "stream",
     "text": [
      "Enter the purchase amount: $ 56\n"
     ]
    },
    {
     "name": "stdout",
     "output_type": "stream",
     "text": [
      "Original price: $56.00\n",
      "Discounted price: $56.00\n"
     ]
    }
   ],
   "source": [
    "# Input the purchase amount from the user\n",
    "purchase_amount = float(input(\"Enter the purchase amount: $\"))\n",
    "\n",
    "# Set discount thresholds and rates\n",
    "discount_threshold_1 = 100  # Amount above which a discount applies\n",
    "discount_rate_1 = 0.1  # 10% discount\n",
    "discount_threshold_2 = 200  # Another threshold for a higher discount\n",
    "discount_rate_2 = 0.2  # 20% discount\n",
    "\n",
    "# Calculate the discounted price based on purchase amount\n",
    "if purchase_amount < discount_threshold_1:\n",
    "    discounted_price = purchase_amount\n",
    "elif purchase_amount < discount_threshold_2:\n",
    "    discounted_price = purchase_amount - (purchase_amount * discount_rate_1)\n",
    "else:\n",
    "    discounted_price = purchase_amount - (purchase_amount * discount_rate_2)\n",
    "\n",
    "# Print the discounted price\n",
    "print(f\"Original price: ${purchase_amount:.2f}\")\n",
    "print(f\"Discounted price: ${discounted_price:.2f}\")\n"
   ]
  },
  {
   "cell_type": "markdown",
   "metadata": {},
   "source": [
    "27. Develop a program to calculate the electricity bill based on different consumption slabs using elif\n",
    "statements."
   ]
  },
  {
   "cell_type": "code",
   "execution_count": 70,
   "metadata": {},
   "outputs": [
    {
     "name": "stdin",
     "output_type": "stream",
     "text": [
      "Enter the electricity consumption (kWh):  120\n"
     ]
    },
    {
     "name": "stdout",
     "output_type": "stream",
     "text": [
      "Electricity consumption: 120.0 kWh\n",
      "Electricity bill: $13.00\n"
     ]
    }
   ],
   "source": [
    "# Input the electricity consumption in kilowatt-hours (kWh) from the user\n",
    "consumption = float(input(\"Enter the electricity consumption (kWh): \"))\n",
    "\n",
    "# Define the rate slabs and their corresponding rates\n",
    "slab1_limit = 100  # Up to 100 kWh\n",
    "slab2_limit = 300  # Up to 300 kWh\n",
    "rate1 = 0.10  # Rate for the first 100 kWh\n",
    "rate2 = 0.15  # Rate for the next 200 kWh\n",
    "rate3 = 0.20  # Rate for usage above 300 kWh\n",
    "\n",
    "# Calculate the electricity bill based on the consumption\n",
    "if consumption <= slab1_limit:\n",
    "    bill = consumption * rate1\n",
    "elif consumption <= slab2_limit:\n",
    "    bill = (slab1_limit * rate1) + ((consumption - slab1_limit) * rate2)\n",
    "else:\n",
    "    bill = (slab1_limit * rate1) + (200 * rate2) + ((consumption - slab2_limit) * rate3)\n",
    "\n",
    "# Print the calculated electricity bill\n",
    "print(f\"Electricity consumption: {consumption} kWh\")\n",
    "print(f\"Electricity bill: ${bill:.2f}\")\n"
   ]
  },
  {
   "cell_type": "markdown",
   "metadata": {},
   "source": [
    "28. Create a program to determine the type of quadrilateral based on its angles and sides using elif\n",
    "statements."
   ]
  },
  {
   "cell_type": "code",
   "execution_count": 72,
   "metadata": {},
   "outputs": [
    {
     "name": "stdin",
     "output_type": "stream",
     "text": [
      "Enter the first angle in degrees:  58\n",
      "Enter the second angle in degrees:  87\n",
      "Enter the third angle in degrees:  45\n",
      "Enter the fourth angle in degrees:  180\n",
      "Enter the length of side 1:  12\n",
      "Enter the length of side 2:  12\n",
      "Enter the length of side 3:  36\n",
      "Enter the length of side 4:  16\n"
     ]
    },
    {
     "name": "stdout",
     "output_type": "stream",
     "text": [
      "It is a general quadrilateral.\n"
     ]
    }
   ],
   "source": [
    "# Input the angles and side lengths of the quadrilateral\n",
    "angle1 = float(input(\"Enter the first angle in degrees: \"))\n",
    "angle2 = float(input(\"Enter the second angle in degrees: \"))\n",
    "angle3 = float(input(\"Enter the third angle in degrees: \"))\n",
    "angle4 = float(input(\"Enter the fourth angle in degrees: \"))\n",
    "\n",
    "side1 = float(input(\"Enter the length of side 1: \"))\n",
    "side2 = float(input(\"Enter the length of side 2: \"))\n",
    "side3 = float(input(\"Enter the length of side 3: \"))\n",
    "side4 = float(input(\"Enter the length of side 4: \"))\n",
    "\n",
    "# Check the type of quadrilateral based on angles and sides\n",
    "if angle1 == angle2 == angle3 == angle4 == 90:\n",
    "    if side1 == side2 == side3 == side4:\n",
    "        print(\"It is a square.\")\n",
    "    elif side1 == side3 and side2 == side4:\n",
    "        print(\"It is a rectangle.\")\n",
    "    else:\n",
    "        print(\"It is a parallelogram.\")\n",
    "elif side1 == side2 == side3 == side4:\n",
    "    if angle1 == angle2 == angle3 == angle4:\n",
    "        print(\"It is a rhombus.\")\n",
    "    else:\n",
    "        print(\"It is a general quadrilateral.\")\n",
    "else:\n",
    "    print(\"It is a general quadrilateral.\")"
   ]
  },
  {
   "cell_type": "markdown",
   "metadata": {},
   "source": [
    "29. Write a Python script to determine the season based on a user-provided month using elif statements."
   ]
  },
  {
   "cell_type": "code",
   "execution_count": 74,
   "metadata": {},
   "outputs": [
    {
     "name": "stdin",
     "output_type": "stream",
     "text": [
      "Enter a month (e.g., January, February, etc.):  January\n"
     ]
    },
    {
     "name": "stdout",
     "output_type": "stream",
     "text": [
      "The season for January is Winter.\n"
     ]
    }
   ],
   "source": [
    "# Input the month from the user\n",
    "month = input(\"Enter a month (e.g., January, February, etc.): \")\n",
    "\n",
    "# Convert the input to lowercase for case-insensitive comparison\n",
    "month = month.lower()\n",
    "\n",
    "# Check the season based on the input month\n",
    "if month in (\"december\", \"january\", \"february\"):\n",
    "    season = \"Winter\"\n",
    "elif month in (\"march\", \"april\", \"may\"):\n",
    "    season = \"Spring\"\n",
    "elif month in (\"june\", \"july\", \"august\"):\n",
    "    season = \"Summer\"\n",
    "elif month in (\"september\", \"october\", \"november\"):\n",
    "    season = \"Fall (Autumn)\"\n",
    "else:\n",
    "    season = \"Invalid month\"\n",
    "\n",
    "# Print the determined season\n",
    "if season != \"Invalid month\":\n",
    "    print(f\"The season for {month.capitalize()} is {season}.\")\n",
    "else:\n",
    "    print(\"Invalid input. Please enter a valid month.\")"
   ]
  },
  {
   "cell_type": "markdown",
   "metadata": {},
   "source": [
    "30. Implement a program to determine the type of a year (leap or common) and month (30 or 31 days) using\n",
    "elif statements."
   ]
  },
  {
   "cell_type": "code",
   "execution_count": 76,
   "metadata": {},
   "outputs": [
    {
     "name": "stdin",
     "output_type": "stream",
     "text": [
      "Enter a year:  2200\n",
      "Enter a month (1-12):  5\n"
     ]
    },
    {
     "name": "stdout",
     "output_type": "stream",
     "text": [
      "The year 2200 is a common year.\n",
      "Month 5 has 31 days.\n"
     ]
    }
   ],
   "source": [
    "# Input a year from the user\n",
    "year = int(input(\"Enter a year: \"))\n",
    "\n",
    "# Input a month from the user\n",
    "month = int(input(\"Enter a month (1-12): \"))\n",
    "\n",
    "# Check if it's a leap year\n",
    "if (year % 4 == 0 and year % 100 != 0) or (year % 400 == 0):\n",
    "    year_type = \"leap\"\n",
    "else:\n",
    "    year_type = \"common\"\n",
    "\n",
    "# Check the number of days in the month\n",
    "if month in (4, 6, 9, 11):\n",
    "    days = 30\n",
    "elif month == 2:\n",
    "    if year_type == \"leap\":\n",
    "        days = 29\n",
    "    else:\n",
    "        days = 28\n",
    "else:\n",
    "    days = 31\n",
    "\n",
    "# Print the type of year and the number of days in the month\n",
    "print(f\"The year {year} is a {year_type} year.\")\n",
    "print(f\"Month {month} has {days} days.\")"
   ]
  },
  {
   "cell_type": "code",
   "execution_count": null,
   "metadata": {},
   "outputs": [],
   "source": []
  },
  {
   "cell_type": "markdown",
   "metadata": {},
   "source": [
    "# Assignment Questions"
   ]
  },
  {
   "cell_type": "markdown",
   "metadata": {},
   "source": [
    "Basic level"
   ]
  },
  {
   "cell_type": "markdown",
   "metadata": {},
   "source": [
    "1. Write a Python program that checks if a given number is positive, negative, or zero."
   ]
  },
  {
   "cell_type": "code",
   "execution_count": 78,
   "metadata": {},
   "outputs": [
    {
     "name": "stdin",
     "output_type": "stream",
     "text": [
      "Enter a number:  56\n"
     ]
    },
    {
     "name": "stdout",
     "output_type": "stream",
     "text": [
      "The number is positive.\n"
     ]
    }
   ],
   "source": [
    "# Input a number from the user\n",
    "number = float(input(\"Enter a number: \"))\n",
    "\n",
    "# Check if the number is positive, negative, or zero\n",
    "if number > 0:\n",
    "    print(\"The number is positive.\")\n",
    "elif number < 0:\n",
    "    print(\"The number is negative.\")\n",
    "else:\n",
    "    print(\"The number is zero.\")"
   ]
  },
  {
   "cell_type": "markdown",
   "metadata": {},
   "source": [
    "2. Create a program to determine if a person is eligible to vote based on their age."
   ]
  },
  {
   "cell_type": "code",
   "execution_count": 80,
   "metadata": {},
   "outputs": [
    {
     "name": "stdin",
     "output_type": "stream",
     "text": [
      "Enter your age:  56\n"
     ]
    },
    {
     "name": "stdout",
     "output_type": "stream",
     "text": [
      "You are eligible to vote.\n"
     ]
    }
   ],
   "source": [
    "# Input the age of the person\n",
    "age = int(input(\"Enter your age: \"))\n",
    "\n",
    "# Check if the age is greater than or equal to 18\n",
    "if age >= 18:\n",
    "    print(\"You are eligible to vote.\")\n",
    "else:\n",
    "    print(\"You are not eligible to vote.\")\n"
   ]
  },
  {
   "cell_type": "markdown",
   "metadata": {},
   "source": [
    "3. Write a program to find the maximum of two given numbers using conditional statements."
   ]
  },
  {
   "cell_type": "code",
   "execution_count": 82,
   "metadata": {},
   "outputs": [
    {
     "name": "stdin",
     "output_type": "stream",
     "text": [
      "Enter the first number:  12\n",
      "Enter the second number:  13\n"
     ]
    },
    {
     "name": "stdout",
     "output_type": "stream",
     "text": [
      "The maximum of 12.0 and 13.0 is 13.0\n"
     ]
    }
   ],
   "source": [
    "# Input two numbers\n",
    "num1 = float(input(\"Enter the first number: \"))\n",
    "num2 = float(input(\"Enter the second number: \"))\n",
    "\n",
    "# Use a conditional statement to find the maximum\n",
    "if num1 > num2:\n",
    "    max_num = num1\n",
    "else:\n",
    "    max_num = num2\n",
    "\n",
    "# Display the maximum number\n",
    "print(\"The maximum of\", num1, \"and\", num2, \"is\", max_num)\n"
   ]
  },
  {
   "cell_type": "markdown",
   "metadata": {},
   "source": [
    "4. Develop a program that calculates the grade of a student based on their exam score."
   ]
  },
  {
   "cell_type": "code",
   "execution_count": 84,
   "metadata": {},
   "outputs": [
    {
     "name": "stdin",
     "output_type": "stream",
     "text": [
      "Enter the exam score:  59\n"
     ]
    },
    {
     "name": "stdout",
     "output_type": "stream",
     "text": [
      "The student's grade is: F\n"
     ]
    }
   ],
   "source": [
    "# Input the exam score from the student\n",
    "score = float(input(\"Enter the exam score: \"))\n",
    "\n",
    "# Define the grading scale\n",
    "# You can modify this scale as needed\n",
    "grading_scale = {\n",
    "    90: \"A\",\n",
    "    80: \"B\",\n",
    "    70: \"C\",\n",
    "    60: \"D\",\n",
    "    0: \"F\"\n",
    "}\n",
    "\n",
    "# Determine the grade\n",
    "grade = None\n",
    "\n",
    "for cutoff, letter_grade in grading_scale.items():\n",
    "    if score >= cutoff:\n",
    "        grade = letter_grade\n",
    "        break\n",
    "\n",
    "# Display the grade\n",
    "if grade:\n",
    "    print(\"The student's grade is:\", grade)\n",
    "else:\n",
    "    print(\"Invalid score. Please enter a score between 0 and 100.\")\n"
   ]
  },
  {
   "cell_type": "markdown",
   "metadata": {},
   "source": [
    "5. Create a program that checks if a year is a leap year or not."
   ]
  },
  {
   "cell_type": "code",
   "execution_count": 86,
   "metadata": {},
   "outputs": [
    {
     "name": "stdin",
     "output_type": "stream",
     "text": [
      "Enter a year:  2024\n"
     ]
    },
    {
     "name": "stdout",
     "output_type": "stream",
     "text": [
      "2024 is a leap year.\n"
     ]
    }
   ],
   "source": [
    "# Input the year from the user\n",
    "year = int(input(\"Enter a year: \"))\n",
    "\n",
    "# Check if it's a leap year\n",
    "if (year % 4 == 0 and year % 100 != 0) or (year % 400 == 0):\n",
    "    print(year, \"is a leap year.\")\n",
    "else:\n",
    "    print(year, \"is not a leap year.\")\n"
   ]
  },
  {
   "cell_type": "markdown",
   "metadata": {},
   "source": [
    "6. Write a program to classify a triangle based on its sides' lengths."
   ]
  },
  {
   "cell_type": "code",
   "execution_count": 88,
   "metadata": {},
   "outputs": [
    {
     "name": "stdin",
     "output_type": "stream",
     "text": [
      "Enter the length of the first side:  12\n",
      "Enter the length of the second side:  5\n",
      "Enter the length of the third side:  8\n"
     ]
    },
    {
     "name": "stdout",
     "output_type": "stream",
     "text": [
      "The triangle is scalene\n"
     ]
    }
   ],
   "source": [
    "# Input the lengths of the three sides of the triangle\n",
    "side1 = float(input(\"Enter the length of the first side: \"))\n",
    "side2 = float(input(\"Enter the length of the second side: \"))\n",
    "side3 = float(input(\"Enter the length of the third side: \"))\n",
    "\n",
    "# Check the type of triangle\n",
    "if side1 == side2 == side3:\n",
    "    triangle_type = \"equilateral\"\n",
    "elif side1 == side2 or side2 == side3 or side1 == side3:\n",
    "    triangle_type = \"isosceles\"\n",
    "else:\n",
    "    triangle_type = \"scalene\"\n",
    "\n",
    "# Display the type of triangle\n",
    "print(\"The triangle is\", triangle_type)"
   ]
  },
  {
   "cell_type": "markdown",
   "metadata": {},
   "source": [
    "7. Build a program that determines the largest of three given numbers."
   ]
  },
  {
   "cell_type": "code",
   "execution_count": 90,
   "metadata": {},
   "outputs": [
    {
     "name": "stdin",
     "output_type": "stream",
     "text": [
      "Enter the first number:  58\n",
      "Enter the second number:  15\n",
      "Enter the third number:  74\n"
     ]
    },
    {
     "name": "stdout",
     "output_type": "stream",
     "text": [
      "The largest number among 58.0 , 15.0 and 74.0 is 74.0\n"
     ]
    }
   ],
   "source": [
    "# Input three numbers\n",
    "num1 = float(input(\"Enter the first number: \"))\n",
    "num2 = float(input(\"Enter the second number: \"))\n",
    "num3 = float(input(\"Enter the third number: \"))\n",
    "\n",
    "# Initialize a variable to store the largest number\n",
    "largest = num1\n",
    "\n",
    "# Compare num2 and num3 to find the largest\n",
    "if num2 > largest:\n",
    "    largest = num2\n",
    "if num3 > largest:\n",
    "    largest = num3\n",
    "\n",
    "# Display the largest number\n",
    "print(\"The largest number among\", num1, \",\", num2, \"and\", num3, \"is\", largest)\n"
   ]
  },
  {
   "cell_type": "markdown",
   "metadata": {},
   "source": [
    "8. Develop a program that checks whether a character is a vowel or a consonant."
   ]
  },
  {
   "cell_type": "code",
   "execution_count": 92,
   "metadata": {},
   "outputs": [
    {
     "name": "stdin",
     "output_type": "stream",
     "text": [
      "Enter a character:  w\n"
     ]
    },
    {
     "name": "stdout",
     "output_type": "stream",
     "text": [
      "w is a consonant.\n"
     ]
    }
   ],
   "source": [
    "# Input a character from the user\n",
    "char = input(\"Enter a character: \")\n",
    "\n",
    "# Convert the input to lowercase to handle both uppercase and lowercase characters\n",
    "char = char.lower()\n",
    "\n",
    "# Check if the character is a single letter and a vowel\n",
    "if len(char) == 1 and char.isalpha():\n",
    "    if char in \"aeiou\":\n",
    "        print(char, \"is a vowel.\")\n",
    "    else:\n",
    "        print(char, \"is a consonant.\")\n",
    "else:\n",
    "    print(\"Invalid input. Please enter a single alphabetic character.\")"
   ]
  },
  {
   "cell_type": "markdown",
   "metadata": {},
   "source": [
    "9. Create a program to calculate the total cost of a shopping cart based on discounts."
   ]
  },
  {
   "cell_type": "code",
   "execution_count": 94,
   "metadata": {},
   "outputs": [
    {
     "name": "stdin",
     "output_type": "stream",
     "text": [
      "Enter the number of items in your shopping cart:  5\n",
      "Enter the price of item 1:  12\n",
      "Enter the price of item 2:  10\n",
      "Enter the price of item 3:  20\n",
      "Enter the price of item 4:  60\n",
      "Enter the price of item 5:  80\n"
     ]
    },
    {
     "name": "stdout",
     "output_type": "stream",
     "text": [
      "Total cost after a 10.0% discount: $163.80\n"
     ]
    }
   ],
   "source": [
    "# Define the fixed discount rate\n",
    "discount_rate = 0.1  # 10% discount\n",
    "\n",
    "# Initialize the total cost\n",
    "total_cost = 0.0\n",
    "\n",
    "# Input the number of items and their individual prices\n",
    "num_items = int(input(\"Enter the number of items in your shopping cart: \"))\n",
    "\n",
    "for i in range(num_items):\n",
    "    item_price = float(input(f\"Enter the price of item {i + 1}: \"))\n",
    "    total_cost += item_price\n",
    "\n",
    "# Apply the discount\n",
    "total_cost -= total_cost * discount_rate\n",
    "\n",
    "# Display the total cost after the discount\n",
    "print(f\"Total cost after a {discount_rate * 100}% discount: ${total_cost:.2f}\")"
   ]
  },
  {
   "cell_type": "markdown",
   "metadata": {},
   "source": [
    "10. Write a program that checks if a given number is even or odd."
   ]
  },
  {
   "cell_type": "code",
   "execution_count": 96,
   "metadata": {},
   "outputs": [
    {
     "name": "stdin",
     "output_type": "stream",
     "text": [
      "Enter a number:  56\n"
     ]
    },
    {
     "name": "stdout",
     "output_type": "stream",
     "text": [
      "56 is an even number.\n"
     ]
    }
   ],
   "source": [
    "# Input a number from the user\n",
    "number = int(input(\"Enter a number: \"))\n",
    "\n",
    "# Check if the number is even or odd\n",
    "if number % 2 == 0:\n",
    "    print(number, \"is an even number.\")\n",
    "else:\n",
    "    print(number, \"is an odd number.\")\n"
   ]
  },
  {
   "cell_type": "markdown",
   "metadata": {},
   "source": [
    "# Intermediate Level:"
   ]
  },
  {
   "cell_type": "markdown",
   "metadata": {},
   "source": [
    "11. Write a program that calculates the roots of a quadratic equation ."
   ]
  },
  {
   "cell_type": "code",
   "execution_count": 98,
   "metadata": {},
   "outputs": [
    {
     "name": "stdin",
     "output_type": "stream",
     "text": [
      "Enter the coefficient 'a':  45\n",
      "Enter the coefficient 'b':  56\n",
      "Enter the coefficient 'c':  78\n"
     ]
    },
    {
     "name": "stdout",
     "output_type": "stream",
     "text": [
      "Root 1 = (-0.6222222222222222+1.1602468873072544j), Root 2 = (-0.6222222222222222-1.1602468873072544j)\n"
     ]
    }
   ],
   "source": [
    "import math\n",
    "\n",
    "# Input coefficients a, b, and c from the user\n",
    "a = float(input(\"Enter the coefficient 'a': \"))\n",
    "b = float(input(\"Enter the coefficient 'b': \"))\n",
    "c = float(input(\"Enter the coefficient 'c': \"))\n",
    "\n",
    "# Calculate the discriminant\n",
    "discriminant = b**2 - 4*a*c\n",
    "\n",
    "# Check the nature of the roots\n",
    "if discriminant > 0:\n",
    "    # Two real and distinct roots\n",
    "    root1 = (-b + math.sqrt(discriminant)) / (2*a)\n",
    "    root2 = (-b - math.sqrt(discriminant)) / (2*a)\n",
    "    print(f\"Root 1 = {root1:.2f}, Root 2 = {root2:.2f}\")\n",
    "elif discriminant == 0:\n",
    "    # One real root (repeated)\n",
    "    root = -b / (2*a)\n",
    "    print(f\"Root = {root:.2f}\")\n",
    "else:\n",
    "    # Complex roots\n",
    "    real_part = -b / (2*a)\n",
    "    imaginary_part = math.sqrt(abs(discriminant)) / (2*a)\n",
    "    root1 = complex(real_part, imaginary_part)\n",
    "    root2 = complex(real_part, -imaginary_part)\n",
    "    print(f\"Root 1 = {root1}, Root 2 = {root2}\")\n"
   ]
  },
  {
   "cell_type": "markdown",
   "metadata": {},
   "source": [
    "12. Create a program that determines the day of the week based on the day number (1-7)."
   ]
  },
  {
   "cell_type": "code",
   "execution_count": 100,
   "metadata": {},
   "outputs": [
    {
     "name": "stdin",
     "output_type": "stream",
     "text": [
      "Enter the day number (1-7):  4\n"
     ]
    },
    {
     "name": "stdout",
     "output_type": "stream",
     "text": [
      "Day 4 is Wednesday.\n"
     ]
    }
   ],
   "source": [
    "# Input the day number (1-7) from the user\n",
    "day_number = int(input(\"Enter the day number (1-7): \"))\n",
    "\n",
    "# Define a list of days of the week\n",
    "days_of_week = [\"Sunday\", \"Monday\", \"Tuesday\", \"Wednesday\", \"Thursday\", \"Friday\", \"Saturday\"]\n",
    "\n",
    "# Check if the input is within the valid range\n",
    "if 1 <= day_number <= 7:\n",
    "    day_name = days_of_week[day_number - 1]  # Adjust for 0-based indexing\n",
    "    print(f\"Day {day_number} is {day_name}.\")\n",
    "else:\n",
    "    print(\"Invalid day number. Please enter a number between 1 and 7.\")\n"
   ]
  },
  {
   "cell_type": "markdown",
   "metadata": {},
   "source": [
    "13. Develop a program that calculates the factorial of a given number using recursion."
   ]
  },
  {
   "cell_type": "code",
   "execution_count": 102,
   "metadata": {},
   "outputs": [
    {
     "name": "stdin",
     "output_type": "stream",
     "text": [
      "Enter a non-negative integer:  23\n"
     ]
    },
    {
     "name": "stdout",
     "output_type": "stream",
     "text": [
      "The factorial of 23 is 25852016738884976640000\n"
     ]
    }
   ],
   "source": [
    "# Input a number from the user\n",
    "num = int(input(\"Enter a non-negative integer: \"))\n",
    "\n",
    "if num < 0:\n",
    "    print(\"Factorial is undefined for negative numbers.\")\n",
    "else:\n",
    "    factorial = 1\n",
    "    for i in range(1, num + 1):\n",
    "        factorial *= i\n",
    "    print(f\"The factorial of {num} is {factorial}\")"
   ]
  },
  {
   "cell_type": "markdown",
   "metadata": {},
   "source": [
    "14. Write a program to find the largest among three numbers without using the `max()` function."
   ]
  },
  {
   "cell_type": "code",
   "execution_count": 104,
   "metadata": {},
   "outputs": [
    {
     "name": "stdin",
     "output_type": "stream",
     "text": [
      "Enter the first number:  25\n",
      "Enter the second number:  12\n",
      "Enter the third number:  6\n"
     ]
    },
    {
     "name": "stdout",
     "output_type": "stream",
     "text": [
      "The largest number among 25.0 , 12.0 and 6.0 is 25.0\n"
     ]
    }
   ],
   "source": [
    "# Input three numbers from the user\n",
    "num1 = float(input(\"Enter the first number: \"))\n",
    "num2 = float(input(\"Enter the second number: \"))\n",
    "num3 = float(input(\"Enter the third number: \"))\n",
    "\n",
    "# Initialize a variable to store the largest number\n",
    "largest = num1\n",
    "\n",
    "# Compare num2 and num3 to find the largest\n",
    "if num2 > largest:\n",
    "    largest = num2\n",
    "if num3 > largest:\n",
    "    largest = num3\n",
    "\n",
    "# Display the largest number\n",
    "print(\"The largest number among\", num1, \",\", num2, \"and\", num3, \"is\", largest)\n"
   ]
  },
  {
   "cell_type": "markdown",
   "metadata": {},
   "source": [
    "15. Create a program that simulates a basic ATM transaction menu."
   ]
  },
  {
   "cell_type": "code",
   "execution_count": 106,
   "metadata": {},
   "outputs": [
    {
     "name": "stdout",
     "output_type": "stream",
     "text": [
      "\n",
      "ATM Menu:\n",
      "1. Check Balance\n",
      "2. Deposit Money\n",
      "3. Withdraw Money\n",
      "4. Exit\n"
     ]
    },
    {
     "name": "stdin",
     "output_type": "stream",
     "text": [
      "Enter your choice (1/2/3/4):  1\n"
     ]
    },
    {
     "name": "stdout",
     "output_type": "stream",
     "text": [
      "Your account balance is $1000.00\n",
      "\n",
      "ATM Menu:\n",
      "1. Check Balance\n",
      "2. Deposit Money\n",
      "3. Withdraw Money\n",
      "4. Exit\n"
     ]
    },
    {
     "name": "stdin",
     "output_type": "stream",
     "text": [
      "Enter your choice (1/2/3/4):  2\n",
      "Enter the amount to deposit: $ 85\n"
     ]
    },
    {
     "name": "stdout",
     "output_type": "stream",
     "text": [
      "You have successfully deposited $85.00.\n",
      "Your account balance is $1085.00\n",
      "\n",
      "ATM Menu:\n",
      "1. Check Balance\n",
      "2. Deposit Money\n",
      "3. Withdraw Money\n",
      "4. Exit\n"
     ]
    },
    {
     "name": "stdin",
     "output_type": "stream",
     "text": [
      "Enter your choice (1/2/3/4):  1\n"
     ]
    },
    {
     "name": "stdout",
     "output_type": "stream",
     "text": [
      "Your account balance is $1085.00\n",
      "\n",
      "ATM Menu:\n",
      "1. Check Balance\n",
      "2. Deposit Money\n",
      "3. Withdraw Money\n",
      "4. Exit\n"
     ]
    },
    {
     "name": "stdin",
     "output_type": "stream",
     "text": [
      "Enter your choice (1/2/3/4):  4\n"
     ]
    },
    {
     "name": "stdout",
     "output_type": "stream",
     "text": [
      "Thank you for using the ATM. Have a great day!\n"
     ]
    }
   ],
   "source": [
    "# Initialize account balance\n",
    "balance = 1000  # You can set an initial balance\n",
    "\n",
    "# Function to display account balance\n",
    "def display_balance():\n",
    "    print(f\"Your account balance is ${balance:.2f}\")\n",
    "\n",
    "# Function to deposit money\n",
    "def deposit():\n",
    "    global balance\n",
    "    amount = float(input(\"Enter the amount to deposit: $\"))\n",
    "    if amount > 0:\n",
    "        balance += amount\n",
    "        print(f\"You have successfully deposited ${amount:.2f}.\")\n",
    "        display_balance()\n",
    "    else:\n",
    "        print(\"Invalid deposit amount.\")\n",
    "\n",
    "# Function to withdraw money\n",
    "def withdraw():\n",
    "    global balance\n",
    "    amount = float(input(\"Enter the amount to withdraw: $\"))\n",
    "    if amount > 0 and amount <= balance:\n",
    "        balance -= amount\n",
    "        print(f\"You have withdrawn ${amount:.2f}.\")\n",
    "        display_balance()\n",
    "    elif amount > balance:\n",
    "        print(\"Insufficient funds.\")\n",
    "    else:\n",
    "        print(\"Invalid withdrawal amount.\")\n",
    "\n",
    "# ATM transaction menu\n",
    "while True:\n",
    "    print(\"\\nATM Menu:\")\n",
    "    print(\"1. Check Balance\")\n",
    "    print(\"2. Deposit Money\")\n",
    "    print(\"3. Withdraw Money\")\n",
    "    print(\"4. Exit\")\n",
    "    choice = input(\"Enter your choice (1/2/3/4): \")\n",
    "\n",
    "    if choice == '1':\n",
    "        display_balance()\n",
    "    elif choice == '2':\n",
    "        deposit()\n",
    "    elif choice == '3':\n",
    "        withdraw()\n",
    "    elif choice == '4':\n",
    "        print(\"Thank you for using the ATM. Have a great day!\")\n",
    "        break\n",
    "    else:\n",
    "        print(\"Invalid choice. Please select a valid option.\")"
   ]
  },
  {
   "cell_type": "markdown",
   "metadata": {},
   "source": [
    "16. Build a program that checks if a given string is a palindrome or not."
   ]
  },
  {
   "cell_type": "code",
   "execution_count": 108,
   "metadata": {},
   "outputs": [
    {
     "name": "stdin",
     "output_type": "stream",
     "text": [
      "Enter a string:  SaaS\n"
     ]
    },
    {
     "name": "stdout",
     "output_type": "stream",
     "text": [
      "It's a palindrome!\n"
     ]
    }
   ],
   "source": [
    "# Input a string from the user\n",
    "input_string = input(\"Enter a string: \")\n",
    "\n",
    "# Remove spaces and convert to lowercase\n",
    "cleaned_string = ''.join(input_string.split()).lower()\n",
    "\n",
    "# Check if the cleaned string is equal to its reverse\n",
    "if cleaned_string == cleaned_string[::-1]:\n",
    "    print(\"It's a palindrome!\")\n",
    "else:\n",
    "    print(\"It's not a palindrome.\")"
   ]
  },
  {
   "cell_type": "markdown",
   "metadata": {},
   "source": [
    "17. Write a program that calculates the average of a list of numbers, excluding the smallest and largest values."
   ]
  },
  {
   "cell_type": "code",
   "execution_count": 110,
   "metadata": {},
   "outputs": [
    {
     "name": "stdin",
     "output_type": "stream",
     "text": [
      "Enter a list of numbers separated by spaces:  23 32 11\n"
     ]
    },
    {
     "name": "stdout",
     "output_type": "stream",
     "text": [
      "The average of the numbers (excluding the smallest and largest) is 23.00\n"
     ]
    }
   ],
   "source": [
    "# Input a list of numbers from the user\n",
    "numbers = input(\"Enter a list of numbers separated by spaces: \").split()\n",
    "numbers = [float(num) for num in numbers]\n",
    "\n",
    "# Check if there are enough numbers to calculate the average\n",
    "if len(numbers) < 3:\n",
    "    print(\"You need at least 3 numbers to calculate an average.\")\n",
    "else:\n",
    "    # Remove the smallest and largest values\n",
    "    numbers.remove(min(numbers))\n",
    "    numbers.remove(max(numbers))\n",
    "\n",
    "    # Calculate the average\n",
    "    average = sum(numbers) / len(numbers)\n",
    "\n",
    "    print(f\"The average of the numbers (excluding the smallest and largest) is {average:.2f}\")"
   ]
  },
  {
   "cell_type": "markdown",
   "metadata": {},
   "source": [
    "18. Develop a program that converts a given temperature from Celsius to Fahrenheit."
   ]
  },
  {
   "cell_type": "code",
   "execution_count": 112,
   "metadata": {},
   "outputs": [
    {
     "name": "stdin",
     "output_type": "stream",
     "text": [
      "Enter the temperature in Celsius:  23\n"
     ]
    },
    {
     "name": "stdout",
     "output_type": "stream",
     "text": [
      "23.0 degrees Celsius is equal to 73.4 degrees Fahrenheit.\n"
     ]
    }
   ],
   "source": [
    "# Input the temperature in Celsius from the user\n",
    "celsius = float(input(\"Enter the temperature in Celsius: \"))\n",
    "\n",
    "# Convert Celsius to Fahrenheit\n",
    "fahrenheit = (celsius * 9/5) + 32\n",
    "\n",
    "# Display the temperature in Fahrenheit\n",
    "print(f\"{celsius} degrees Celsius is equal to {fahrenheit} degrees Fahrenheit.\")"
   ]
  },
  {
   "cell_type": "markdown",
   "metadata": {},
   "source": [
    "19. Create a program that simulates a basic calculator for addition, subtraction, multiplication, and division."
   ]
  },
  {
   "cell_type": "code",
   "execution_count": 114,
   "metadata": {},
   "outputs": [
    {
     "name": "stdout",
     "output_type": "stream",
     "text": [
      "Calculator Menu:\n",
      "1. Addition\n",
      "2. Subtraction\n",
      "3. Multiplication\n",
      "4. Division\n",
      "5. Exit\n"
     ]
    },
    {
     "name": "stdin",
     "output_type": "stream",
     "text": [
      "Enter your choice (1/2/3/4/5):  1\n",
      "Enter the first number:  23\n",
      "Enter the second number:  21\n"
     ]
    },
    {
     "name": "stdout",
     "output_type": "stream",
     "text": [
      "Result of addition: 23.0 addition 21.0 = 44.0\n",
      "Calculator Menu:\n",
      "1. Addition\n",
      "2. Subtraction\n",
      "3. Multiplication\n",
      "4. Division\n",
      "5. Exit\n"
     ]
    },
    {
     "name": "stdin",
     "output_type": "stream",
     "text": [
      "Enter your choice (1/2/3/4/5):  5\n"
     ]
    },
    {
     "name": "stdout",
     "output_type": "stream",
     "text": [
      "Calculator is exiting. Goodbye!\n"
     ]
    }
   ],
   "source": [
    "while True:\n",
    "    # Display the menu\n",
    "    print(\"Calculator Menu:\")\n",
    "    print(\"1. Addition\")\n",
    "    print(\"2. Subtraction\")\n",
    "    print(\"3. Multiplication\")\n",
    "    print(\"4. Division\")\n",
    "    print(\"5. Exit\")\n",
    "\n",
    "    # Input the user's choice\n",
    "    choice = input(\"Enter your choice (1/2/3/4/5): \")\n",
    "\n",
    "    if choice == '5':\n",
    "        print(\"Calculator is exiting. Goodbye!\")\n",
    "        break\n",
    "\n",
    "    if choice not in ('1', '2', '3', '4'):\n",
    "        print(\"Invalid choice. Please select a valid option.\")\n",
    "        continue\n",
    "\n",
    "    # Input two numbers\n",
    "    num1 = float(input(\"Enter the first number: \"))\n",
    "    num2 = float(input(\"Enter the second number: \"))\n",
    "\n",
    "    if choice == '1':\n",
    "        result = num1 + num2\n",
    "        operation = \"addition\"\n",
    "    elif choice == '2':\n",
    "        result = num1 - num2\n",
    "        operation = \"subtraction\"\n",
    "    elif choice == '3':\n",
    "        result = num1 * num2\n",
    "        operation = \"multiplication\"\n",
    "    elif choice == '4':\n",
    "        if num2 == 0:\n",
    "            print(\"Error: Division by zero.\")\n",
    "            continue\n",
    "        result = num1 / num2\n",
    "        operation = \"division\"\n",
    "\n",
    "    print(f\"Result of {operation}: {num1} {operation} {num2} = {result}\")"
   ]
  },
  {
   "cell_type": "markdown",
   "metadata": {},
   "source": [
    "20. Write a program that determines the roots of a cubic equation using the Cardano formula."
   ]
  },
  {
   "cell_type": "code",
   "execution_count": 3,
   "metadata": {},
   "outputs": [
    {
     "name": "stdin",
     "output_type": "stream",
     "text": [
      "Enter the coefficient 'a':  2\n",
      "Enter the coefficient 'b':  -3\n",
      "Enter the coefficient 'c':  4\n",
      "Enter the coefficient 'd':  -5\n"
     ]
    },
    {
     "name": "stdout",
     "output_type": "stream",
     "text": [
      "One real root: (1.8858448828192937+0.29716827547015373j)\n",
      "Two complex roots: (0.0644328343463183+0.7544244610209461j) (-0.45027771716561205-1.0515927364910997j)\n"
     ]
    }
   ],
   "source": [
    "import cmath\n",
    "\n",
    "# Input the coefficients of the cubic equation ax^3 + bx^2 + cx + d = 0\n",
    "a = float(input(\"Enter the coefficient 'a': \"))\n",
    "b = float(input(\"Enter the coefficient 'b': \"))\n",
    "c = float(input(\"Enter the coefficient 'c': \"))\n",
    "d = float(input(\"Enter the coefficient 'd': \"))\n",
    "\n",
    "# Calculate intermediate variables for the Cardano formula\n",
    "p = (3 * a * c - b ** 2) / (3 * a ** 2)\n",
    "q = (2 * b ** 3 - 9 * a * b * c + 27 * a ** 2 * d) / (27 * a ** 3)\n",
    "discriminant = (q / 2) ** 2 + (p / 3) ** 3\n",
    "\n",
    "if discriminant > 0:\n",
    "    # One real root and two complex roots\n",
    "    u = cmath.exp(cmath.log(-q / 2 + cmath.sqrt(discriminant)) / 3)\n",
    "    v = cmath.exp(cmath.log(-q / 2 - cmath.sqrt(discriminant)) / 3)\n",
    "    real_root = -(b / (3 * a)) + u + v\n",
    "    complex_root1 = complex(-(b / (3 * a)) - (u + v) / 2, (u - v) * cmath.sqrt(3) / 2)\n",
    "    complex_root2 = complex(-(b / (3 * a)) - (u + v) / 2, -(u - v) * cmath.sqrt(3) / 2)\n",
    "    print(\"One real root:\", real_root)\n",
    "    print(\"Two complex roots:\", complex_root1, complex_root2)\n",
    "elif discriminant == 0:\n",
    "    # Three real and identical roots\n",
    "    u = -q / 2\n",
    "    real_root1 = 2 * cmath.exp(cmath.log(u) / 3) - (b / (3 * a))\n",
    "    real_root2 = -cmath.exp(cmath.log(u) / 3) - (b / (3 * a))\n",
    "    real_root3 = -cmath.exp(cmath.log(u) / 3) - (b / (3 * a))\n",
    "    print(\"Three identical real roots:\", real_root1, real_root2, real_root3)\n",
    "else:\n",
    "    # Three real roots\n",
    "    u = cmath.sqrt(-p**3)\n",
    "    phi = cmath.acos(-q / (2 * cmath.sqrt(-p**3)))\n",
    "    real_root1 = 2 * cmath.exp(cmath.log(-p) / 3) * cmath.cos(phi / 3) - (b / (3 * a))\n",
    "    real_root2 = 2 * cmath.exp(cmath.log(-p) / 3) * cmath.cos((phi + 2 * cmath.pi) / 3) - (b / (3 * a))\n",
    "    real_root3 = 2 * cmath.exp(cmath.log(-p) / 3) * cmath.cos((phi + 4 * cmath.pi) / 3) - (b / (3 * a))\n",
    "    print(\"Three real roots:\", real_root1, real_root2, real_root3)"
   ]
  },
  {
   "cell_type": "markdown",
   "metadata": {},
   "source": [
    "# Advanced Level:"
   ]
  },
  {
   "cell_type": "markdown",
   "metadata": {},
   "source": [
    "21. Create a program that calculates the income tax based on the user's income and tax brackets."
   ]
  },
  {
   "cell_type": "code",
   "execution_count": 5,
   "metadata": {},
   "outputs": [
    {
     "name": "stdin",
     "output_type": "stream",
     "text": [
      "Enter your income:  60000\n"
     ]
    },
    {
     "name": "stdout",
     "output_type": "stream",
     "text": [
      "Your income tax is: $8989.88\n"
     ]
    }
   ],
   "source": [
    "# Define tax brackets and their corresponding tax rates\n",
    "brackets = [(0, 9875, 0.10), (9876, 40125, 0.12), (40126, 85525, 0.22), \n",
    "            (85526, 163300, 0.24), (163301, 207350, 0.32), (207351, 518400, 0.35), (518401, float('inf'), 0.37)]\n",
    "\n",
    "# Input the user's income\n",
    "income = float(input(\"Enter your income: \"))\n",
    "\n",
    "# Calculate income tax based on tax brackets\n",
    "tax = 0\n",
    "remaining_income = income\n",
    "\n",
    "for lower, upper, rate in brackets:\n",
    "    if remaining_income <= 0:\n",
    "        break\n",
    "    taxable_income = min(remaining_income, upper - lower + 1)\n",
    "    tax += taxable_income * rate\n",
    "    remaining_income -= taxable_income\n",
    "\n",
    "# Display the calculated income tax\n",
    "print(f\"Your income tax is: ${tax:.2f}\")"
   ]
  },
  {
   "cell_type": "markdown",
   "metadata": {},
   "source": [
    "22. Write a program that simulates a rock-paper-scissors game against the computer."
   ]
  },
  {
   "cell_type": "code",
   "execution_count": 7,
   "metadata": {},
   "outputs": [
    {
     "name": "stdin",
     "output_type": "stream",
     "text": [
      "Your choice (rock, paper, scissors):  rock\n"
     ]
    },
    {
     "name": "stdout",
     "output_type": "stream",
     "text": [
      "Your choice: rock\n",
      "Computer's choice: paper\n",
      "Computer wins!\n"
     ]
    },
    {
     "name": "stdin",
     "output_type": "stream",
     "text": [
      "Play again? (yes/no):  no\n"
     ]
    }
   ],
   "source": [
    "import random\n",
    "\n",
    "# Define choices\n",
    "choices = [\"rock\", \"paper\", \"scissors\"]\n",
    "\n",
    "while True:\n",
    "    # User's choice\n",
    "    user = input(\"Your choice (rock, paper, scissors): \").lower()\n",
    "\n",
    "    if user not in choices:\n",
    "        print(\"Invalid choice. Choose 'rock', 'paper', or 'scissors'.\")\n",
    "        continue\n",
    "\n",
    "    # Computer's choice\n",
    "    computer = random.choice(choices)\n",
    "\n",
    "    # Determine the winner\n",
    "    if user == computer:\n",
    "        result = \"It's a tie!\"\n",
    "    elif (user == \"rock\" and computer == \"scissors\") or \\\n",
    "         (user == \"scissors\" and computer == \"paper\") or \\\n",
    "         (user == \"paper\" and computer == \"rock\"):\n",
    "        result = \"You win!\"\n",
    "    else:\n",
    "        result = \"Computer wins!\"\n",
    "\n",
    "    # Display choices and result\n",
    "    print(f\"Your choice: {user}\")\n",
    "    print(f\"Computer's choice: {computer}\")\n",
    "    print(result)\n",
    "\n",
    "    # Play again?\n",
    "    play_again = input(\"Play again? (yes/no): \").lower()\n",
    "    if play_again != \"yes\":\n",
    "        break"
   ]
  },
  {
   "cell_type": "markdown",
   "metadata": {},
   "source": [
    "23. Develop a program that generates a random password based on user preferences (length, complexity)."
   ]
  },
  {
   "cell_type": "code",
   "execution_count": 9,
   "metadata": {},
   "outputs": [
    {
     "name": "stdin",
     "output_type": "stream",
     "text": [
      "Password length:  3\n",
      "Use lowercase letters? (yes/no):  yes\n",
      "Use uppercase letters? (yes/no):  yes\n",
      "Use digits? (yes/no):  no\n",
      "Use special characters? (yes/no):  no\n"
     ]
    },
    {
     "name": "stdout",
     "output_type": "stream",
     "text": [
      "Generated password: kUR\n"
     ]
    }
   ],
   "source": [
    "import random\n",
    "import string\n",
    "\n",
    "# Define character sets\n",
    "lower = string.ascii_lowercase\n",
    "upper = string.ascii_uppercase\n",
    "digits = string.digits\n",
    "special = string.punctuation\n",
    "\n",
    "# Input password preferences\n",
    "length = int(input(\"Password length: \"))\n",
    "use_lower = input(\"Use lowercase letters? (yes/no): \").lower() == \"yes\"\n",
    "use_upper = input(\"Use uppercase letters? (yes/no): \").lower() == \"yes\"\n",
    "use_digits = input(\"Use digits? (yes/no): \").lower() == \"yes\"\n",
    "use_special = input(\"Use special characters? (yes/no): \").lower() == \"yes\"\n",
    "\n",
    "# Create character pool based on user preferences\n",
    "characters = \"\"\n",
    "if use_lower:\n",
    "    characters += lower\n",
    "if use_upper:\n",
    "    characters += upper\n",
    "if use_digits:\n",
    "    characters += digits\n",
    "if use_special:\n",
    "    characters += special\n",
    "\n",
    "if not characters:\n",
    "    print(\"Please select at least one character type.\")\n",
    "else:\n",
    "    # Generate the password\n",
    "    password = ''.join(random.choice(characters) for _ in range(length))\n",
    "    print(\"Generated password:\", password)\n"
   ]
  },
  {
   "cell_type": "markdown",
   "metadata": {},
   "source": [
    "24. Create a program that implements a simple text-based adventure game with branching scenarios."
   ]
  },
  {
   "cell_type": "code",
   "execution_count": 11,
   "metadata": {},
   "outputs": [
    {
     "name": "stdout",
     "output_type": "stream",
     "text": [
      "Welcome to the Text Adventure Game!\n",
      "\n",
      "You find yourself in a dark forest. You see two paths.\n"
     ]
    },
    {
     "name": "stdin",
     "output_type": "stream",
     "text": [
      "Do you take the left path or the right path? (left/right):  left\n"
     ]
    },
    {
     "name": "stdout",
     "output_type": "stream",
     "text": [
      "\n",
      "You follow the left path and come across a river.\n"
     ]
    },
    {
     "name": "stdin",
     "output_type": "stream",
     "text": [
      "Do you swim across or find a bridge? (swim/bridge):  swim\n"
     ]
    },
    {
     "name": "stdout",
     "output_type": "stream",
     "text": [
      "\n",
      "You swim across but are caught in a strong current.\n",
      "Unfortunately, you didn't make it. Game over!\n",
      "\n",
      "Congratulations! You've completed the adventure.\n"
     ]
    }
   ],
   "source": [
    "import time\n",
    "\n",
    "# Function to simulate a pause for dramatic effect\n",
    "def pause():\n",
    "    time.sleep(1)\n",
    "\n",
    "# Introduction\n",
    "print(\"Welcome to the Text Adventure Game!\")\n",
    "\n",
    "# Scenario 1\n",
    "print(\"\\nYou find yourself in a dark forest. You see two paths.\")\n",
    "choice1 = input(\"Do you take the left path or the right path? (left/right): \")\n",
    "\n",
    "if choice1.lower() == \"left\":\n",
    "    # Scenario 2\n",
    "    print(\"\\nYou follow the left path and come across a river.\")\n",
    "    choice2 = input(\"Do you swim across or find a bridge? (swim/bridge): \")\n",
    "    \n",
    "    if choice2.lower() == \"swim\":\n",
    "        print(\"\\nYou swim across but are caught in a strong current.\")\n",
    "        print(\"Unfortunately, you didn't make it. Game over!\")\n",
    "    elif choice2.lower() == \"bridge\":\n",
    "        print(\"\\nYou find a sturdy bridge and cross the river safely.\")\n",
    "        print(\"You continue your journey.\")\n",
    "    else:\n",
    "        print(\"Invalid choice. Game over!\")\n",
    "else:\n",
    "    # Scenario 3\n",
    "    print(\"\\nYou follow the right path and encounter a bear.\")\n",
    "    choice3 = input(\"Do you run or play dead? (run/dead): \")\n",
    "\n",
    "    if choice3.lower() == \"run\":\n",
    "        print(\"\\nYou sprint away from the bear and escape.\")\n",
    "        print(\"You're safe, and your adventure continues.\")\n",
    "    elif choice3.lower() == \"dead\":\n",
    "        print(\"\\nThe bear sniffs around and loses interest.\")\n",
    "        print(\"You survive the encounter and continue your journey.\")\n",
    "    else:\n",
    "        print(\"Invalid choice. Game over!\")\n",
    "\n",
    "# Conclusion\n",
    "print(\"\\nCongratulations! You've completed the adventure.\")\n"
   ]
  },
  {
   "cell_type": "markdown",
   "metadata": {},
   "source": [
    "25. Build a program that solves a linear equation for x, considering different cases."
   ]
  },
  {
   "cell_type": "code",
   "execution_count": 13,
   "metadata": {},
   "outputs": [
    {
     "name": "stdin",
     "output_type": "stream",
     "text": [
      "Enter the coefficient 'a':  23\n",
      "Enter the coefficient 'b':  12\n"
     ]
    },
    {
     "name": "stdout",
     "output_type": "stream",
     "text": [
      "The solution for the equation 23.0x + 12.0 = 0 is x = -0.52\n"
     ]
    }
   ],
   "source": [
    "# Input coefficients a and b from the user\n",
    "a = float(input(\"Enter the coefficient 'a': \"))\n",
    "b = float(input(\"Enter the coefficient 'b': \"))\n",
    "\n",
    "if a == 0:\n",
    "    if b == 0:\n",
    "        print(\"Infinite solutions. Any value of x will work.\")\n",
    "    else:\n",
    "        print(\"No solution. The equation has no valid solutions.\")\n",
    "else:\n",
    "    x = -b / a\n",
    "    print(f\"The solution for the equation {a}x + {b} = 0 is x = {x:.2f}\")"
   ]
  },
  {
   "cell_type": "markdown",
   "metadata": {},
   "source": [
    "26. Write a program that simulates a basic quiz game with multiple-choice questions and scoring."
   ]
  },
  {
   "cell_type": "code",
   "execution_count": 17,
   "metadata": {},
   "outputs": [
    {
     "name": "stdout",
     "output_type": "stream",
     "text": [
      "\n",
      "Question 1: What is the capital of France?\n",
      "1. London\n",
      "2. Berlin\n",
      "3. Paris\n",
      "4. Madrid\n"
     ]
    },
    {
     "name": "stdin",
     "output_type": "stream",
     "text": [
      "Enter the number of your answer:  2\n"
     ]
    },
    {
     "name": "stdout",
     "output_type": "stream",
     "text": [
      "Wrong! The correct answer is: Paris\n",
      "\n",
      "Question 2: Which planet is known as the Red Planet?\n",
      "1. Venus\n",
      "2. Mars\n",
      "3. Jupiter\n",
      "4. Saturn\n"
     ]
    },
    {
     "name": "stdin",
     "output_type": "stream",
     "text": [
      "Enter the number of your answer:  2\n"
     ]
    },
    {
     "name": "stdout",
     "output_type": "stream",
     "text": [
      "Correct!\n",
      "\n",
      "Question 3: What is the largest mammal in the world?\n",
      "1. Elephant\n",
      "2. Giraffe\n",
      "3. Blue Whale\n",
      "4. Hippopotamus\n"
     ]
    },
    {
     "name": "stdin",
     "output_type": "stream",
     "text": [
      "Enter the number of your answer:  3\n"
     ]
    },
    {
     "name": "stdout",
     "output_type": "stream",
     "text": [
      "Correct!\n",
      "\n",
      "Quiz completed! Your score is: 2 out of 3\n"
     ]
    }
   ],
   "source": [
    "# Define questions and answers\n",
    "questions = [\n",
    "    {\n",
    "        \"question\": \"What is the capital of France?\",\n",
    "        \"options\": [\"London\", \"Berlin\", \"Paris\", \"Madrid\"],\n",
    "        \"answer\": 2,\n",
    "    },\n",
    "    {\n",
    "        \"question\": \"Which planet is known as the Red Planet?\",\n",
    "        \"options\": [\"Venus\", \"Mars\", \"Jupiter\", \"Saturn\"],\n",
    "        \"answer\": 1,\n",
    "    },\n",
    "    {\n",
    "        \"question\": \"What is the largest mammal in the world?\",\n",
    "        \"options\": [\"Elephant\", \"Giraffe\", \"Blue Whale\", \"Hippopotamus\"],\n",
    "        \"answer\": 2,\n",
    "    },\n",
    "]\n",
    "\n",
    "# Initialize the score\n",
    "score = 0\n",
    "\n",
    "# Iterate through the questions\n",
    "for i, q in enumerate(questions, 1):\n",
    "    print(f\"\\nQuestion {i}: {q['question']}\")\n",
    "    for j, option in enumerate(q['options'], 1):\n",
    "        print(f\"{j}. {option}\")\n",
    "\n",
    "    # Get the user's answer\n",
    "    user_answer = int(input(\"Enter the number of your answer: \")) - 1\n",
    "\n",
    "    # Check if the answer is correct\n",
    "    if 0 <= user_answer < len(q['options']) and user_answer == q['answer']:\n",
    "        print(\"Correct!\")\n",
    "        score += 1\n",
    "    else:\n",
    "        print(f\"Wrong! The correct answer is: {q['options'][q['answer']]}\")\n",
    "\n",
    "# Display the final score\n",
    "print(f\"\\nQuiz completed! Your score is: {score} out of {len(questions)}\")"
   ]
  },
  {
   "cell_type": "markdown",
   "metadata": {},
   "source": [
    "27. Develop a program that determines whether a given year is a prime number or not."
   ]
  },
  {
   "cell_type": "code",
   "execution_count": 19,
   "metadata": {},
   "outputs": [
    {
     "name": "stdin",
     "output_type": "stream",
     "text": [
      "Enter a year:  2024\n"
     ]
    },
    {
     "name": "stdout",
     "output_type": "stream",
     "text": [
      "2024 is not a prime year.\n"
     ]
    }
   ],
   "source": [
    "# Function to check if a number is prime\n",
    "def is_prime(year):\n",
    "    if year <= 1:\n",
    "        return False\n",
    "    if year <= 3:\n",
    "        return True\n",
    "    if year % 2 == 0 or year % 3 == 0:\n",
    "        return False\n",
    "\n",
    "    i = 5\n",
    "    while i * i <= year:\n",
    "        if year % i == 0 or year % (i + 2) == 0:\n",
    "            return False\n",
    "        i += 6\n",
    "\n",
    "    return True\n",
    "\n",
    "# Input the year from the user\n",
    "year = int(input(\"Enter a year: \"))\n",
    "\n",
    "if is_prime(year):\n",
    "    print(f\"{year} is a prime year.\")\n",
    "else:\n",
    "    print(f\"{year} is not a prime year.\")"
   ]
  },
  {
   "cell_type": "markdown",
   "metadata": {},
   "source": [
    "28. Create a program that sorts three numbers in ascending order using conditional statements."
   ]
  },
  {
   "cell_type": "code",
   "execution_count": 21,
   "metadata": {},
   "outputs": [
    {
     "name": "stdin",
     "output_type": "stream",
     "text": [
      "Enter the first number:  25\n",
      "Enter the second number:  56\n",
      "Enter the third number:  84\n"
     ]
    },
    {
     "name": "stdout",
     "output_type": "stream",
     "text": [
      "Sorted numbers in ascending order: 25.0 56.0 84.0\n"
     ]
    }
   ],
   "source": [
    "# Input three numbers from the user\n",
    "num1 = float(input(\"Enter the first number: \"))\n",
    "num2 = float(input(\"Enter the second number: \"))\n",
    "num3 = float(input(\"Enter the third number: \"))\n",
    "\n",
    "# Initialize variables to store the sorted numbers\n",
    "smallest = 0\n",
    "middle = 0\n",
    "largest = 0\n",
    "\n",
    "# Determine the smallest number\n",
    "if num1 <= num2 and num1 <= num3:\n",
    "    smallest = num1\n",
    "    if num2 <= num3:\n",
    "        middle = num2\n",
    "        largest = num3\n",
    "    else:\n",
    "        middle = num3\n",
    "        largest = num2\n",
    "elif num2 <= num1 and num2 <= num3:\n",
    "    smallest = num2\n",
    "    if num1 <= num3:\n",
    "        middle = num1\n",
    "        largest = num3\n",
    "    else:\n",
    "        middle = num3\n",
    "        largest = num1\n",
    "else:\n",
    "    smallest = num3\n",
    "    if num1 <= num2:\n",
    "        middle = num1\n",
    "        largest = num2\n",
    "    else:\n",
    "        middle = num2\n",
    "        largest = num1\n",
    "\n",
    "# Display the sorted numbers in ascending order\n",
    "print(\"Sorted numbers in ascending order:\", smallest, middle, largest)"
   ]
  },
  {
   "cell_type": "markdown",
   "metadata": {},
   "source": [
    "29. Build a program that determines the roots of a quartic equation using numerical methods."
   ]
  },
  {
   "cell_type": "code",
   "execution_count": 23,
   "metadata": {},
   "outputs": [
    {
     "name": "stdout",
     "output_type": "stream",
     "text": [
      "Root found: 1.000000\n"
     ]
    }
   ],
   "source": [
    "import sympy as sp\n",
    "\n",
    "x = sp.symbols('x')\n",
    "equation = x**4 - 6*x**3 + 11*x**2 - 6*x\n",
    "derivative = sp.diff(equation, x)\n",
    "guess = 1.0\n",
    "tolerance = 1e-6\n",
    "max_iterations = 1000\n",
    "\n",
    "root = guess\n",
    "\n",
    "for i in range(max_iterations):\n",
    "    f = sp.N(equation.subs(x, root))\n",
    "    f_prime = sp.N(derivative.subs(x, root))\n",
    "\n",
    "    if abs(f) < tolerance:\n",
    "        break\n",
    "\n",
    "    root = root - f / f_prime\n",
    "\n",
    "if i == max_iterations - 1:\n",
    "    print(\"Root not found within maximum iterations.\")\n",
    "else:\n",
    "    print(f\"Root found: {root:.6f}\")"
   ]
  },
  {
   "cell_type": "markdown",
   "metadata": {},
   "source": [
    "30. Write a program that calculates the BMI (Body Mass Index) and provides health recommendations based\n",
    "on the user's input."
   ]
  },
  {
   "cell_type": "code",
   "execution_count": 26,
   "metadata": {},
   "outputs": [
    {
     "name": "stdin",
     "output_type": "stream",
     "text": [
      "Enter your weight (in kilograms):  78\n",
      "Enter your height (in meters):  1.4\n"
     ]
    },
    {
     "name": "stdout",
     "output_type": "stream",
     "text": [
      "Your BMI is: 39.80\n",
      "You are obese. It's recommended to consult a healthcare professional and make healthy lifestyle changes.\n"
     ]
    }
   ],
   "source": [
    "# Input user's weight (in kilograms) and height (in meters)\n",
    "weight = float(input(\"Enter your weight (in kilograms): \"))\n",
    "height = float(input(\"Enter your height (in meters): \"))\n",
    "\n",
    "# Calculate BMI\n",
    "bmi = weight / (height ** 2)\n",
    "\n",
    "# Display the calculated BMI\n",
    "print(f\"Your BMI is: {bmi:.2f}\")\n",
    "\n",
    "# Provide basic health recommendations based on BMI\n",
    "if bmi < 18.5:\n",
    "    print(\"You are underweight. Consider gaining some weight in a healthy manner.\")\n",
    "elif 18.5 <= bmi < 24.9:\n",
    "    print(\"Your BMI is in the healthy range. Keep maintaining a balanced diet and exercise.\")\n",
    "elif 24.9 <= bmi < 29.9:\n",
    "    print(\"You are overweight. Consider a balanced diet and regular exercise.\")\n",
    "else:\n",
    "    print(\"You are obese. It's recommended to consult a healthcare professional and make healthy lifestyle changes.\")\n"
   ]
  },
  {
   "cell_type": "code",
   "execution_count": null,
   "metadata": {},
   "outputs": [],
   "source": []
  },
  {
   "cell_type": "markdown",
   "metadata": {},
   "source": [
    "# Challenge Level:"
   ]
  },
  {
   "cell_type": "markdown",
   "metadata": {},
   "source": [
    "31. Create a program that validates a password based on complexity rules (length, characters, etc.)."
   ]
  },
  {
   "cell_type": "code",
   "execution_count": 30,
   "metadata": {},
   "outputs": [
    {
     "name": "stdin",
     "output_type": "stream",
     "text": [
      "Enter a password:  saR@12\n"
     ]
    },
    {
     "name": "stdout",
     "output_type": "stream",
     "text": [
      "Password is not valid. It should be at least 8 characters long.\n"
     ]
    }
   ],
   "source": [
    "# Input the password from the user\n",
    "password = input(\"Enter a password: \")\n",
    "\n",
    "# Check if the password meets length requirements\n",
    "if len(password) < 8:\n",
    "    print(\"Password is not valid. It should be at least 8 characters long.\")\n",
    "else:\n",
    "    has_upper = any(char.isupper() for char in password)\n",
    "    has_lower = any(char.islower() for char in password)\n",
    "    has_digit = any(char.isdigit() for char in password)\n",
    "    special_characters = \"!@#$%^&*()_-+=<>?/\\\\\"\n",
    "    has_special = any(char in special_characters for char in password)\n",
    "\n",
    "    if not has_upper:\n",
    "        print(\"Password is not valid. It should contain at least one uppercase letter.\")\n",
    "    elif not has_lower:\n",
    "        print(\"Password is not valid. It should contain at least one lowercase letter.\")\n",
    "    elif not has_digit:\n",
    "        print(\"Password is not valid. It should contain at least one digit.\")\n",
    "    elif not has_special:\n",
    "        print(\"Password is not valid. It should contain at least one special character.\")\n",
    "    else:\n",
    "        print(\"Password is valid.\")\n"
   ]
  },
  {
   "cell_type": "markdown",
   "metadata": {},
   "source": [
    "32. Develop a program that performs matrix addition and subtraction based on user input."
   ]
  },
  {
   "cell_type": "code",
   "execution_count": 36,
   "metadata": {},
   "outputs": [
    {
     "name": "stdin",
     "output_type": "stream",
     "text": [
      "Enter the number of rows:  2\n",
      "Enter the number of columns:  3\n",
      "Enter element at position (1, 1):  1\n",
      "Enter element at position (1, 2):  1\n",
      "Enter element at position (1, 3):  1\n",
      "Enter element at position (2, 1):  1\n",
      "Enter element at position (2, 2):  1\n",
      "Enter element at position (2, 3):  1\n",
      "Enter element at position (1, 1):  1\n",
      "Enter element at position (1, 2):  1\n",
      "Enter element at position (1, 3):  1\n",
      "Enter element at position (2, 1):  1\n",
      "Enter element at position (2, 2):  1\n",
      "Enter element at position (2, 3):  1\n"
     ]
    },
    {
     "name": "stdout",
     "output_type": "stream",
     "text": [
      "\n",
      "Matrix Addition:\n",
      "[2.0, 2.0, 2.0]\n",
      "[2.0, 2.0, 2.0]\n",
      "\n",
      "Matrix Subtraction:\n",
      "[0.0, 0.0, 0.0]\n",
      "[0.0, 0.0, 0.0]\n"
     ]
    }
   ],
   "source": [
    "# Input matrix dimensions\n",
    "rows = int(input(\"Enter the number of rows: \"))\n",
    "cols = int(input(\"Enter the number of columns: \"))\n",
    "\n",
    "# Initialize the first matrix\n",
    "matrix1 = [[float(input(f\"Enter element at position ({i+1}, {j+1}): \")) for j in range(cols)] for i in range(rows)]\n",
    "\n",
    "# Initialize the second matrix\n",
    "matrix2 = [[float(input(f\"Enter element at position ({i+1}, {j+1}): \")) for j in range(cols)] for i in range(rows)]\n",
    "\n",
    "# Perform matrix addition and subtraction\n",
    "sum_matrix = [[matrix1[i][j] + matrix2[i][j] for j in range(cols)] for i in range(rows)]\n",
    "difference_matrix = [[matrix1[i][j] - matrix2[i][j] for j in range(cols)] for i in range(rows)]\n",
    "\n",
    "# Display the results\n",
    "print(\"\\nMatrix Addition:\")\n",
    "for row in sum_matrix:\n",
    "    print(row)\n",
    "\n",
    "print(\"\\nMatrix Subtraction:\")\n",
    "for row in difference_matrix:\n",
    "    print(row)"
   ]
  },
  {
   "cell_type": "markdown",
   "metadata": {},
   "source": [
    "33. Write a program that calculates the greatest common divisor (GCD) of two numbers using the Euclidean\n",
    "algorithm."
   ]
  },
  {
   "cell_type": "code",
   "execution_count": 38,
   "metadata": {},
   "outputs": [
    {
     "name": "stdin",
     "output_type": "stream",
     "text": [
      "Enter the first number:  45\n",
      "Enter the second number:  56\n"
     ]
    },
    {
     "name": "stdout",
     "output_type": "stream",
     "text": [
      "The GCD of 45 and 56 is 1.\n"
     ]
    }
   ],
   "source": [
    "# Function to calculate GCD using the Euclidean algorithm\n",
    "def euclidean_gcd(a, b):\n",
    "    while b:\n",
    "        a, b = b, a % b\n",
    "    return a\n",
    "\n",
    "# Input two numbers from the user\n",
    "num1 = int(input(\"Enter the first number: \"))\n",
    "num2 = int(input(\"Enter the second number: \"))\n",
    "\n",
    "# Calculate the GCD using the Euclidean algorithm\n",
    "gcd = euclidean_gcd(num1, num2)\n",
    "\n",
    "# Display the GCD\n",
    "print(f\"The GCD of {num1} and {num2} is {gcd}.\")"
   ]
  },
  {
   "cell_type": "markdown",
   "metadata": {},
   "source": [
    "34. Build a program that performs matrix multiplication using nested loops and conditional statements."
   ]
  },
  {
   "cell_type": "code",
   "execution_count": 40,
   "metadata": {},
   "outputs": [
    {
     "name": "stdin",
     "output_type": "stream",
     "text": [
      "Enter the number of rows for the first matrix:  1\n",
      "Enter the number of columns for the first matrix:  2\n",
      "Enter the number of rows for the second matrix:  2\n",
      "Enter the number of columns for the second matrix:  2\n"
     ]
    },
    {
     "name": "stdout",
     "output_type": "stream",
     "text": [
      "Enter elements for the first matrix:\n"
     ]
    },
    {
     "name": "stdin",
     "output_type": "stream",
     "text": [
      "Enter element at position (1, 1):  1\n",
      "Enter element at position (1, 2):  1\n"
     ]
    },
    {
     "name": "stdout",
     "output_type": "stream",
     "text": [
      "\n",
      "Enter elements for the second matrix:\n"
     ]
    },
    {
     "name": "stdin",
     "output_type": "stream",
     "text": [
      "Enter element at position (1, 1):  0\n",
      "Enter element at position (1, 2):  0\n",
      "Enter element at position (2, 1):  0\n",
      "Enter element at position (2, 2):  0\n"
     ]
    },
    {
     "name": "stdout",
     "output_type": "stream",
     "text": [
      "\n",
      "Matrix Multiplication Result:\n",
      "[0.0, 0.0]\n"
     ]
    }
   ],
   "source": [
    "# Input dimensions for the matrices\n",
    "rows1 = int(input(\"Enter the number of rows for the first matrix: \"))\n",
    "cols1 = int(input(\"Enter the number of columns for the first matrix: \"))\n",
    "rows2 = int(input(\"Enter the number of rows for the second matrix: \"))\n",
    "cols2 = int(input(\"Enter the number of columns for the second matrix: \"))\n",
    "\n",
    "# Check if matrix multiplication is possible\n",
    "if cols1 != rows2:\n",
    "    print(\"Matrix multiplication is not possible. The number of columns in the first matrix must be equal to the number of rows in the second matrix.\")\n",
    "else:\n",
    "    # Initialize the first matrix\n",
    "    print(\"Enter elements for the first matrix:\")\n",
    "    matrix1 = [[float(input(f\"Enter element at position ({i + 1}, {j + 1}): \")) for j in range(cols1)] for i in range(rows1)]\n",
    "\n",
    "    # Initialize the second matrix\n",
    "    print(\"\\nEnter elements for the second matrix:\")\n",
    "    matrix2 = [[float(input(f\"Enter element at position ({i + 1}, {j + 1}): \")) for j in range(cols2)] for i in range(rows2)]\n",
    "\n",
    "    # Perform matrix multiplication using list comprehensions\n",
    "    result_matrix = [[sum(matrix1[i][k] * matrix2[k][j] for k in range(cols1)) for j in range(cols2)] for i in range(rows1)]\n",
    "\n",
    "    # Display the result\n",
    "    print(\"\\nMatrix Multiplication Result:\")\n",
    "    for row in result_matrix:\n",
    "        print(row)"
   ]
  },
  {
   "cell_type": "markdown",
   "metadata": {},
   "source": [
    "35. Create a program that simulates a basic text-based tic-tac-toe game against the computer."
   ]
  },
  {
   "cell_type": "code",
   "execution_count": 42,
   "metadata": {},
   "outputs": [
    {
     "name": "stdout",
     "output_type": "stream",
     "text": [
      "Welcome to Tic-Tac-Toe!\n",
      "  |   |  \n",
      "---------\n",
      "  |   |  \n",
      "---------\n",
      "  |   |  \n"
     ]
    },
    {
     "name": "stdin",
     "output_type": "stream",
     "text": [
      "Enter your move (1-9):  1\n"
     ]
    },
    {
     "name": "stdout",
     "output_type": "stream",
     "text": [
      "X |   |  \n",
      "---------\n",
      "  |   |  \n",
      "---------\n",
      "  |   |  \n",
      "X |   |  \n",
      "---------\n",
      "  |   |  \n",
      "---------\n",
      "O |   |  \n"
     ]
    },
    {
     "name": "stdin",
     "output_type": "stream",
     "text": [
      "Enter your move (1-9):  2\n"
     ]
    },
    {
     "name": "stdout",
     "output_type": "stream",
     "text": [
      "X | X |  \n",
      "---------\n",
      "  |   |  \n",
      "---------\n",
      "O |   |  \n",
      "X | X |  \n",
      "---------\n",
      "  |   |  \n",
      "---------\n",
      "O |   | O\n"
     ]
    },
    {
     "name": "stdin",
     "output_type": "stream",
     "text": [
      "Enter your move (1-9):  9\n"
     ]
    },
    {
     "name": "stdout",
     "output_type": "stream",
     "text": [
      "Invalid move. Try again.\n"
     ]
    },
    {
     "name": "stdin",
     "output_type": "stream",
     "text": [
      "Enter your move (1-9):  3\n"
     ]
    },
    {
     "name": "stdout",
     "output_type": "stream",
     "text": [
      "X | X | X\n",
      "---------\n",
      "  |   |  \n",
      "---------\n",
      "O |   | O\n",
      "X wins!\n"
     ]
    }
   ],
   "source": [
    "import random\n",
    "\n",
    "# Initialize the board\n",
    "board = [\" \" for _ in range(9)]\n",
    "\n",
    "# Function to print the Tic-Tac-Toe board\n",
    "def print_board(board):\n",
    "    for i in range(0, 9, 3):\n",
    "        print(f\"{board[i]} | {board[i + 1]} | {board[i + 2]}\")\n",
    "        if i < 6:\n",
    "            print(\"-\" * 9)\n",
    "\n",
    "# Function to check for a win\n",
    "def check_win(board, player):\n",
    "    winning_combinations = [(0, 1, 2), (3, 4, 5), (6, 7, 8), (0, 3, 6), (1, 4, 7), (2, 5, 8), (0, 4, 8), (2, 4, 6)]\n",
    "    for a, b, c in winning_combinations:\n",
    "        if board[a] == board[b] == board[c] == player:\n",
    "            return True\n",
    "    return False\n",
    "\n",
    "# Function for computer's move\n",
    "def computer_move(board, computer, player):\n",
    "    empty_cells = [i for i, cell in enumerate(board) if cell == \" \"]\n",
    "    if empty_cells:\n",
    "        return random.choice(empty_cells)\n",
    "    return None\n",
    "\n",
    "# Main game loop\n",
    "player = \"X\"\n",
    "computer = \"O\"\n",
    "\n",
    "print(\"Welcome to Tic-Tac-Toe!\")\n",
    "print_board(board)\n",
    "\n",
    "while True:\n",
    "    if player == \"X\":\n",
    "        move = int(input(\"Enter your move (1-9): \")) - 1\n",
    "        if 0 <= move < 9 and board[move] == \" \":\n",
    "            board[move] = player\n",
    "        else:\n",
    "            print(\"Invalid move. Try again.\")\n",
    "            continue\n",
    "    else:\n",
    "        move = computer_move(board, computer, player)\n",
    "        if move is not None:\n",
    "            board[move] = player\n",
    "\n",
    "    print_board(board)\n",
    "\n",
    "    if check_win(board, player):\n",
    "        print(f\"{player} wins!\")\n",
    "        break\n",
    "    elif \" \" not in board:\n",
    "        print(\"It's a draw!\")\n",
    "        break\n",
    "\n",
    "    player, computer = computer, player\n"
   ]
  },
  {
   "cell_type": "markdown",
   "metadata": {},
   "source": [
    "36. Write a program that generates Fibonacci numbers up to a specified term using iterative methods."
   ]
  },
  {
   "cell_type": "code",
   "execution_count": 44,
   "metadata": {},
   "outputs": [
    {
     "name": "stdin",
     "output_type": "stream",
     "text": [
      "Enter the number of Fibonacci terms to generate:  5\n"
     ]
    },
    {
     "name": "stdout",
     "output_type": "stream",
     "text": [
      "Fibonacci Sequence:\n",
      "[0, 1, 1, 2, 3]\n"
     ]
    }
   ],
   "source": [
    "# Input the number of terms\n",
    "n = int(input(\"Enter the number of Fibonacci terms to generate: \"))\n",
    "\n",
    "# Initialize the Fibonacci sequence\n",
    "fib_sequence = [0, 1]\n",
    "\n",
    "# Generate and display the Fibonacci sequence\n",
    "if n <= 0:\n",
    "    print(\"No terms to generate.\")\n",
    "elif n == 1:\n",
    "    print(\"Fibonacci Sequence:\")\n",
    "    print([0])\n",
    "elif n == 2:\n",
    "    print(\"Fibonacci Sequence:\")\n",
    "    print(fib_sequence)\n",
    "else:\n",
    "    while len(fib_sequence) < n:\n",
    "        next_fib = fib_sequence[-1] + fib_sequence[-2]\n",
    "        fib_sequence.append(next_fib)\n",
    "\n",
    "    print(\"Fibonacci Sequence:\")\n",
    "    print(fib_sequence)"
   ]
  },
  {
   "cell_type": "markdown",
   "metadata": {},
   "source": [
    "37. Develop a program that calculates the nth term of the Fibonacci sequence using memoization."
   ]
  },
  {
   "cell_type": "code",
   "execution_count": 46,
   "metadata": {},
   "outputs": [
    {
     "name": "stdin",
     "output_type": "stream",
     "text": [
      "Enter the value of n:  5\n"
     ]
    },
    {
     "name": "stdout",
     "output_type": "stream",
     "text": [
      "The 5th Fibonacci term is: 5\n"
     ]
    }
   ],
   "source": [
    "# Function to calculate the nth Fibonacci term with memoization\n",
    "def fibonacci(n, memo={}):\n",
    "    if n in memo:\n",
    "        return memo[n]\n",
    "    if n <= 1:\n",
    "        return n\n",
    "    memo[n] = fibonacci(n - 1, memo) + fibonacci(n - 2, memo)\n",
    "    return memo[n]\n",
    "\n",
    "# Input the value of n from the user\n",
    "n = int(input(\"Enter the value of n: \"))\n",
    "\n",
    "# Calculate and display the nth Fibonacci term\n",
    "result = fibonacci(n)\n",
    "print(f\"The {n}th Fibonacci term is: {result}\")"
   ]
  },
  {
   "cell_type": "markdown",
   "metadata": {},
   "source": [
    "38. Create a program that generates a calendar for a given month and year using conditional statements."
   ]
  },
  {
   "cell_type": "code",
   "execution_count": 50,
   "metadata": {},
   "outputs": [
    {
     "name": "stdin",
     "output_type": "stream",
     "text": [
      "Enter the year:  2024\n",
      "Enter the month (1-12):  8\n"
     ]
    },
    {
     "name": "stdout",
     "output_type": "stream",
     "text": [
      "Calendar for August 2024:\n",
      "\n",
      "    August 2024\n",
      "Mo Tu We Th Fr Sa Su\n",
      "          1  2  3  4\n",
      " 5  6  7  8  9 10 11\n",
      "12 13 14 15 16 17 18\n",
      "19 20 21 22 23 24 25\n",
      "26 27 28 29 30 31\n",
      "\n"
     ]
    }
   ],
   "source": [
    "import calendar\n",
    "\n",
    "# Input the year and month from the user\n",
    "year = int(input(\"Enter the year: \"))\n",
    "month = int(input(\"Enter the month (1-12): \"))\n",
    "\n",
    "# Validate the input\n",
    "if month< 1 or month > 12:\n",
    "    print(\"Invalid month. Please enter a month between 1 and 12.\")\n",
    "else:\n",
    "    # Generate the calendar for the specified month and year\n",
    "    cal = calendar.month(year, month)\n",
    "    print(f\"Calendar for {calendar.month_name[month]} {year}:\\n\")\n",
    "    print(cal)"
   ]
  },
  {
   "cell_type": "markdown",
   "metadata": {},
   "source": [
    "40. Write a program that generates the prime factors of a given number using trial division."
   ]
  },
  {
   "cell_type": "code",
   "execution_count": 52,
   "metadata": {},
   "outputs": [
    {
     "name": "stdin",
     "output_type": "stream",
     "text": [
      "Enter a number:  56\n"
     ]
    },
    {
     "name": "stdout",
     "output_type": "stream",
     "text": [
      "The prime factors of 1 are: [2, 2, 2, 7]\n"
     ]
    }
   ],
   "source": [
    "# Input the number\n",
    "num = int(input(\"Enter a number: \"))\n",
    "\n",
    "# Find and display the prime factors\n",
    "factors = []\n",
    "divisor = 2\n",
    "\n",
    "while num > 1:\n",
    "    while num % divisor == 0:\n",
    "        factors.append(divisor)\n",
    "        num //= divisor\n",
    "    divisor += 1\n",
    "\n",
    "if len(factors) == 0:\n",
    "    print(f\"{num} has no prime factors.\")\n",
    "else:\n",
    "    print(f\"The prime factors of {num} are: {factors}\")"
   ]
  },
  {
   "cell_type": "code",
   "execution_count": null,
   "metadata": {},
   "outputs": [],
   "source": []
  }
 ],
 "metadata": {
  "kernelspec": {
   "display_name": "Python [conda env:base] *",
   "language": "python",
   "name": "conda-base-py"
  },
  "language_info": {
   "codemirror_mode": {
    "name": "ipython",
    "version": 3
   },
   "file_extension": ".py",
   "mimetype": "text/x-python",
   "name": "python",
   "nbconvert_exporter": "python",
   "pygments_lexer": "ipython3",
   "version": "3.11.7"
  },
  "widgets": {
   "application/vnd.jupyter.widget-state+json": {
    "state": {},
    "version_major": 2,
    "version_minor": 0
   }
  }
 },
 "nbformat": 4,
 "nbformat_minor": 4
}
