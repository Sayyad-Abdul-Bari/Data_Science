{
 "cells": [
  {
   "cell_type": "markdown",
   "id": "fff01a25",
   "metadata": {},
   "source": [
    "# Q1. You are writing code for a company. The requirement of the company is that you create a python function that will check whether the password entered by the user is correct or not. The function should take the password as input and return the string “Valid Password” if the entered password follows the below-given password guidelines else it should return “Invalid Password”.\n",
    "Note: \n",
    "1. The Password should contain at least two uppercase letters and at least two lowercase letters.\n",
    "2. The Password should contain at least a number and three special characters.\n",
    "3. The length of the password should be 10 characters long."
   ]
  },
  {
   "cell_type": "code",
   "execution_count": 10,
   "id": "3a0c52f6",
   "metadata": {},
   "outputs": [
    {
     "name": "stdout",
     "output_type": "stream",
     "text": [
      "Enter your password: QWer1!@#ty\n",
      "Valid Password\n"
     ]
    }
   ],
   "source": [
    "import re\n",
    "\n",
    "def password_check(password):\n",
    "    if len(password) == 10:\n",
    "        if (sum(1 for char in password if char.isupper()) >= 2) and (sum(1 for char in password if char.islower()) >= 2):\n",
    "            if any(char.isdigit() for char in password) and (len(re.findall(r'[!@#$%^&*()_\\-+={}|:;\",.?]', password)) >= 3):\n",
    "                return \"Valid Password\"\n",
    "    return \"Invalid Password\"\n",
    "\n",
    "result = password_check(input(\"Enter your password: \"))\n",
    "print(result)\n"
   ]
  },
  {
   "cell_type": "markdown",
   "id": "5b8a6b7f",
   "metadata": {},
   "source": [
    "# Q2. Solve the below-given questions using at least one of the following:\n",
    "### 1. Lambda function\n",
    "### 2. Filter function\n",
    "### 3. Map function\n",
    "### 4. List ComprehensioI\n",
    "-  Check if the string starts with a particular letter."
   ]
  },
  {
   "cell_type": "code",
   "execution_count": 12,
   "id": "6df9a0ba",
   "metadata": {},
   "outputs": [
    {
     "name": "stdout",
     "output_type": "stream",
     "text": [
      "True\n"
     ]
    }
   ],
   "source": [
    "start_with_letter = lambda string,letter: string[0].lower()== letter.lower()\n",
    "result = start_with_letter(\"Python\", \"P\")\n",
    "print(result)"
   ]
  },
  {
   "cell_type": "markdown",
   "id": "f8d363f4",
   "metadata": {},
   "source": [
    "- Check if the string is numeric."
   ]
  },
  {
   "cell_type": "code",
   "execution_count": 16,
   "id": "18e41aa6",
   "metadata": {},
   "outputs": [
    {
     "name": "stdout",
     "output_type": "stream",
     "text": [
      "True\n"
     ]
    }
   ],
   "source": [
    "string_numeric = lambda string: string.isnumeric()\n",
    "print(string_numeric(\"12\"))"
   ]
  },
  {
   "cell_type": "markdown",
   "id": "66ba6cca",
   "metadata": {},
   "source": [
    "- Sort a list of tuples having fruit names and their quantity. [(\"mango\",99),(\"orange\",80), (\"grapes\", 1000)]"
   ]
  },
  {
   "cell_type": "code",
   "execution_count": 18,
   "id": "c463d36c",
   "metadata": {},
   "outputs": [
    {
     "data": {
      "text/plain": [
       "[('grapes', 1000), ('mango', 99), ('orange', 80)]"
      ]
     },
     "execution_count": 18,
     "metadata": {},
     "output_type": "execute_result"
    }
   ],
   "source": [
    "fruits =  [(\"mango\",99),(\"orange\",80), (\"grapes\", 1000)] \n",
    "fruits_sort = sorted(fruits, key = lambda x: x[1], reverse=True)\n",
    "fruits_sort"
   ]
  },
  {
   "cell_type": "markdown",
   "id": "8a058ba9",
   "metadata": {},
   "source": [
    "- Find the squares of numbers from 1 to 10."
   ]
  },
  {
   "cell_type": "code",
   "execution_count": 19,
   "id": "69215d36",
   "metadata": {},
   "outputs": [
    {
     "data": {
      "text/plain": [
       "[1, 4, 9, 16, 25, 36, 49, 64, 81, 100]"
      ]
     },
     "execution_count": 19,
     "metadata": {},
     "output_type": "execute_result"
    }
   ],
   "source": [
    "list(map(lambda x:x**2, range(1,11)))"
   ]
  },
  {
   "cell_type": "markdown",
   "id": "016b5c86",
   "metadata": {},
   "source": [
    "- Find the cube root of numbers from 1 to 10."
   ]
  },
  {
   "cell_type": "code",
   "execution_count": 20,
   "id": "bd88a1ad",
   "metadata": {},
   "outputs": [
    {
     "data": {
      "text/plain": [
       "[1, 8, 27, 64, 125, 216, 343, 512, 729, 1000]"
      ]
     },
     "execution_count": 20,
     "metadata": {},
     "output_type": "execute_result"
    }
   ],
   "source": [
    "list(map(lambda x:x**3, range(1,11)))"
   ]
  },
  {
   "cell_type": "markdown",
   "id": "48835b61",
   "metadata": {},
   "source": [
    "- Check if a given number is even."
   ]
  },
  {
   "cell_type": "code",
   "execution_count": 21,
   "id": "9e612882",
   "metadata": {},
   "outputs": [
    {
     "data": {
      "text/plain": [
       "[2, 4, 6, 8, 10]"
      ]
     },
     "execution_count": 21,
     "metadata": {},
     "output_type": "execute_result"
    }
   ],
   "source": [
    "list(filter(lambda x:x%2==0, range(1,11)))"
   ]
  },
  {
   "cell_type": "markdown",
   "id": "2c8ca5d1",
   "metadata": {},
   "source": [
    "- Filter odd numbers from the given list.\n",
    "[1,2,3,4,5,6,7,8,9,10]"
   ]
  },
  {
   "cell_type": "code",
   "execution_count": 23,
   "id": "38053752",
   "metadata": {},
   "outputs": [
    {
     "data": {
      "text/plain": [
       "[1, 3, 5, 7, 9]"
      ]
     },
     "execution_count": 23,
     "metadata": {},
     "output_type": "execute_result"
    }
   ],
   "source": [
    "list(filter(lambda x:x%2!=0, range(1,11)))"
   ]
  },
  {
   "cell_type": "markdown",
   "id": "a1cbe57e",
   "metadata": {},
   "source": [
    "- Sort a list of integers into positive and negative integers lists.\n",
    "[1,2,3,4,5,6,-1,-2,-3,-4,-5,0]"
   ]
  },
  {
   "cell_type": "code",
   "execution_count": 35,
   "id": "a425a695",
   "metadata": {},
   "outputs": [],
   "source": [
    "l = list(range(1,7)) + list(map(lambda x: x*-1, range(1,6))) + [0]"
   ]
  },
  {
   "cell_type": "code",
   "execution_count": 36,
   "id": "4ea039a0",
   "metadata": {},
   "outputs": [
    {
     "name": "stdout",
     "output_type": "stream",
     "text": [
      "Positive Integers: [1, 2, 3, 4, 5, 6, 0]\n",
      "Negative Integers: [-1, -2, -3, -4, -5]\n"
     ]
    }
   ],
   "source": [
    "from functools import reduce\n",
    "\n",
    "l = list(range(1,7)) + list(map(lambda x: x*-1, range(1,6))) + [0]\n",
    "\n",
    "# Use reduce to categorize into positive and negative lists\n",
    "result = reduce(lambda acc, x: (acc[0] + [x], acc[1]) if x >= 0 else (acc[0], acc[1] + [x]), numbers, ([], []))\n",
    "\n",
    "positive_integers, negative_integers = result\n",
    "\n",
    "print(\"Positive Integers:\", positive_integers)\n",
    "print(\"Negative Integers:\", negative_integers)\n"
   ]
  },
  {
   "cell_type": "code",
   "execution_count": null,
   "id": "012dfa48",
   "metadata": {},
   "outputs": [],
   "source": []
  }
 ],
 "metadata": {
  "kernelspec": {
   "display_name": "Python 3 (ipykernel)",
   "language": "python",
   "name": "python3"
  },
  "language_info": {
   "codemirror_mode": {
    "name": "ipython",
    "version": 3
   },
   "file_extension": ".py",
   "mimetype": "text/x-python",
   "name": "python",
   "nbconvert_exporter": "python",
   "pygments_lexer": "ipython3",
   "version": "3.11.4"
  }
 },
 "nbformat": 4,
 "nbformat_minor": 5
}
