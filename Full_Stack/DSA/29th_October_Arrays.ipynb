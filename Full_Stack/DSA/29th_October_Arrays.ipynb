{
 "cells": [
  {
   "cell_type": "markdown",
   "id": "1bb410c0",
   "metadata": {},
   "source": [
    "1. Given an array, check if it contains any duplicates or not.\n",
    "- arr = [1, 2, 4, 2, 5, 9]\n",
    "- Output = True"
   ]
  },
  {
   "cell_type": "code",
   "execution_count": 1,
   "id": "50ee24ea",
   "metadata": {},
   "outputs": [
    {
     "name": "stdout",
     "output_type": "stream",
     "text": [
      "True\n"
     ]
    }
   ],
   "source": [
    "arr = [1,2,4,2,5,9]\n",
    "\n",
    "if len(arr)!=len(list(set(arr))):\n",
    "    print(True)\n",
    "else:\n",
    "    print(False)"
   ]
  },
  {
   "cell_type": "markdown",
   "id": "4cc6cf39",
   "metadata": {},
   "source": [
    "2. Given an array and an integer k, rotate the array to the right by k steps.\n",
    "- arr = [1, 2, 3, 4, 5, 6, 7] k = 3\n",
    "- Output = [5, 6, 7, 1, 2, 3, 4]"
   ]
  },
  {
   "cell_type": "code",
   "execution_count": 2,
   "id": "12dfaef7",
   "metadata": {},
   "outputs": [
    {
     "name": "stdout",
     "output_type": "stream",
     "text": [
      "[5, 6, 7, 1, 2, 3, 4, 5]\n"
     ]
    }
   ],
   "source": [
    "def rotate(arr,k):\n",
    "    arr = arr[-k:]+ arr[:-k+1]\n",
    "    return arr\n",
    "\n",
    "\n",
    "arr = [1, 2, 3, 4, 5, 6, 7] \n",
    "k = 3\n",
    "print(rotate(arr,k))"
   ]
  },
  {
   "cell_type": "markdown",
   "id": "6df6f45c",
   "metadata": {},
   "source": [
    "3. Reverse the given array in-place, means without using any extra data structure.\n",
    "- arr = [2, 4, 5, 7, 9, 12]\n",
    "- Output = [12, 9, 7, 5, 4, 2]"
   ]
  },
  {
   "cell_type": "code",
   "execution_count": 3,
   "id": "373e75b7",
   "metadata": {},
   "outputs": [
    {
     "data": {
      "text/plain": [
       "[12, 9, 7, 5, 4, 2]"
      ]
     },
     "execution_count": 3,
     "metadata": {},
     "output_type": "execute_result"
    }
   ],
   "source": [
    "arr = [2, 4, 5, 7, 9, 12]\n",
    "arr[-1::-1]"
   ]
  },
  {
   "cell_type": "markdown",
   "id": "42387102",
   "metadata": {},
   "source": [
    "4. Given an array of integers, find the maximum element in an array\n",
    "- arr = [10, 5, 20, 8, 15]\n",
    "- Output = 20"
   ]
  },
  {
   "cell_type": "code",
   "execution_count": 4,
   "id": "19f4ac2a",
   "metadata": {},
   "outputs": [
    {
     "data": {
      "text/plain": [
       "20"
      ]
     },
     "execution_count": 4,
     "metadata": {},
     "output_type": "execute_result"
    }
   ],
   "source": [
    "from functools import reduce\n",
    "\n",
    "arr = [10, 5, 20, 8, 15]\n",
    "reduce(lambda x, y: x if x > y else y, arr)"
   ]
  },
  {
   "cell_type": "markdown",
   "id": "b7af3f31",
   "metadata": {},
   "source": [
    "5. Given a sorted array, remove the duplicate element without using any extra data structure.\n",
    "- arr = [1, 1, 2, 2, 2, 3, 3, 4, 4, 4, 5, 5]\n",
    "- Output = [1, 2, 3, 4, 5]"
   ]
  },
  {
   "cell_type": "code",
   "execution_count": 5,
   "id": "bcaa1923",
   "metadata": {},
   "outputs": [
    {
     "data": {
      "text/plain": [
       "[1, 2, 3, 4, 5]"
      ]
     },
     "execution_count": 5,
     "metadata": {},
     "output_type": "execute_result"
    }
   ],
   "source": [
    "arr = [1, 1, 2, 2, 2, 3, 3, 4, 4, 4, 5, 5]\n",
    "\n",
    "list(set(arr))"
   ]
  }
 ],
 "metadata": {
  "kernelspec": {
   "display_name": "Python 3 (ipykernel)",
   "language": "python",
   "name": "python3"
  },
  "language_info": {
   "codemirror_mode": {
    "name": "ipython",
    "version": 3
   },
   "file_extension": ".py",
   "mimetype": "text/x-python",
   "name": "python",
   "nbconvert_exporter": "python",
   "pygments_lexer": "ipython3",
   "version": "3.11.4"
  }
 },
 "nbformat": 4,
 "nbformat_minor": 5
}
