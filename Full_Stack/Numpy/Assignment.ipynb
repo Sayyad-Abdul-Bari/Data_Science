{
 "cells": [
  {
   "cell_type": "markdown",
   "id": "ff05a00f-25be-4e05-b723-8b91d7191152",
   "metadata": {},
   "source": [
    "# **<span style=\"color:skyblue;\">1. What is a Python library? Why do we use Python libraries?</span>**\n",
    "\n",
    "A collection of prewritten code that we can use to perform specific tasks such as mathematical operations, data manipulation, interacting with APIs without writing code from scratch. They are `modules containing functions, classes, methods, and variables, packaged tools that are easily reused`.\n",
    "\n",
    "It is used for several reasons:\n",
    "- **<span style=\"color:green;\">Efficiency</span>**\n",
    "- **<span style=\"color:green;\">Code Reusability</span>**\n",
    "- **<span style=\"color:green;\">Complexity Management</span>**\n",
    "- **<span style=\"color:green;\">Reliability</span>**"
   ]
  },
  {
   "cell_type": "markdown",
   "id": "326a0f0f-df6c-41d8-b87b-952e89767e52",
   "metadata": {},
   "source": [
    "# **<span style=\"color:#ff0000;\">2. What is the difference between NumPy array and List?</span>**\n",
    "\n",
    "| **Feature**               | **NumPy Array**                                           | **Python List**                                          |\n",
    "|---------------------------|-----------------------------------------------------------|----------------------------------------------------------|\n",
    "| **Performance**           | Faster and more memory-efficient for large datasets because they are implemented in C and use contiguous memory blocks. | Slower and less memory-efficient because they are more flexible and can store different data types.                     |\n",
    "| **Data Type Consistency** | Homogeneous (same data type for all elements)             | Heterogeneous (can store different data types)            |\n",
    "| **Functionality**         | Advanced mathematical operations, broadcasting, vectorization | General-purpose methods, lacks advanced numerical capabilities |"
   ]
  },
  {
   "cell_type": "markdown",
   "id": "15d648b1-55c4-4af0-9650-8f2b36fa105b",
   "metadata": {},
   "source": [
    "# **<span style = \"color:rgb(125,78,89);\">3. Find the shape, size and dimension of the following array? </span>**\n",
    "# 4. Write python code to access the first row of the following array?\n",
    "# 5. How do you access the element at the third row and fourth column from the given numpy array?\n",
    "# 6. Write code to extract all odd-indexed elements from the given numpy array?\n",
    "# 9. Write code to increase the dimension of the following array?\n",
    "# 10. How to transpose the following array in NumPy?\n",
    "\n",
    "[[1, 2, 3, 4]\n",
    "\n",
    "[5, 6, 7, 8],\n",
    "\n",
    "[9, 10, 11, 12]]\n",
    "\n",
    "9, 10, 11, 12]]"
   ]
  },
  {
   "cell_type": "code",
   "execution_count": 56,
   "id": "97202bf8-013f-41e5-b186-e05bed7fb370",
   "metadata": {
    "scrolled": true
   },
   "outputs": [
    {
     "name": "stdout",
     "output_type": "stream",
     "text": [
      "\n",
      "Shape: (3, 4)\n",
      "Size: 12\n",
      "Dimension: 2 \n",
      "First Row: [1 2 3 4]\n",
      "Third Row and Forth Column: 12\n",
      "All Odd Indexed Element (Assuming Rows are Indexing and columns are features) : [[ 1  2  3  4]\n",
      " [ 9 10 11 12]] \n",
      "Increase Dimension by 1D by Row : [[[ 1  2  3  4]\n",
      "  [ 5  6  7  8]\n",
      "  [ 9 10 11 12]]]\n",
      "Increase Dimension by 1D by Column : [[[ 1  2  3  4]]\n",
      "\n",
      " [[ 5  6  7  8]]\n",
      "\n",
      " [[ 9 10 11 12]]]\n",
      "Transpose: [[ 1  5  9]\n",
      " [ 2  6 10]\n",
      " [ 3  7 11]\n",
      " [ 4  8 12]]\n",
      "\n",
      "\n"
     ]
    }
   ],
   "source": [
    "import numpy as np\n",
    "l =  [[1, 2, 3, 4],\n",
    "[5, 6, 7, 8],\n",
    "[9, 10, 11, 12]]\n",
    "arr = np.array(l)\n",
    "print(f\"\"\"\n",
    "Shape: {arr.shape}\n",
    "Size: {arr.size}\n",
    "Dimension: {arr.ndim} \n",
    "First Row: {arr[0]}\n",
    "Third Row and Forth Column: {arr[2,3]}\n",
    "All Odd Indexed Element (Assuming Rows are Indexing and columns are features) : {arr[::2]} \n",
    "Increase Dimension by 1D by Row : {np.expand_dims(arr,axis = 0)}\n",
    "Increase Dimension by 1D by Column : {np.expand_dims(arr,axis = 1)}\n",
    "Transpose: {arr.T}\n",
    "\n",
    "\"\"\")"
   ]
  },
  {
   "cell_type": "markdown",
   "id": "1bbe14c5-baa6-4d96-9307-ba6f9c28e907",
   "metadata": {},
   "source": [
    "# 7. How can you generate a random 3x3 matrix with values between 0 and 1?"
   ]
  },
  {
   "cell_type": "code",
   "execution_count": 65,
   "id": "4289aebe-f2e5-45e8-a379-57570e339b41",
   "metadata": {},
   "outputs": [
    {
     "data": {
      "text/plain": [
       "array([[0.66862078, 0.2157137 , 0.74504698],\n",
       "       [0.75824598, 0.36606565, 0.16011677],\n",
       "       [0.81533577, 0.70704713, 0.77720769]])"
      ]
     },
     "execution_count": 65,
     "metadata": {},
     "output_type": "execute_result"
    }
   ],
   "source": [
    "import random\n",
    "np.random.rand(3,3)"
   ]
  },
  {
   "cell_type": "markdown",
   "id": "63cf9f77-cb7e-4cd1-ac4a-ac1d9c83cf4c",
   "metadata": {},
   "source": [
    "# 8. Describe the difference between np.random.rand and np.random.randn\n",
    "\n",
    "- `np.random.rand` : Random numbers in a uniform distribution between 0 and 1.\n",
    "- `np.random.randn` : Random numbers from a standard normal distribution with a mean of 0 and a standard deviation of 1."
   ]
  },
  {
   "cell_type": "markdown",
   "id": "644964c1-a736-4144-9a67-4b45341b0525",
   "metadata": {},
   "source": [
    "# 11. Consider the following matrix:\n",
    "\n",
    "Matrix A:  [[1, 2, 3, 4] [5, 6, 7, 8],[9, 10, 11, 12]]\n",
    "\n",
    "Matrix B: [[1, 2, 3, 4] [5, 6, 7, 8],[9, 10, 11, 12]]\n",
    "\n",
    "\n",
    "Perform the following operation using Python1\n",
    "-  Index wise multiplication\n",
    "- Matrix multiplication\n",
    "- Add both the matrix\n",
    "- Subtract matrix B from A\n",
    "- Divide Matrix B by A"
   ]
  },
  {
   "cell_type": "code",
   "execution_count": 71,
   "id": "6bdc0c80-9553-4795-b2ea-4b65678b6563",
   "metadata": {},
   "outputs": [
    {
     "name": "stdout",
     "output_type": "stream",
     "text": [
      "\n",
      "A: [[ 1  2  3  4]\n",
      " [ 5  6  7  8]\n",
      " [ 9 10 11 12]]\n",
      "B: [[ 1  2  3  4]\n",
      " [ 5  6  7  8]\n",
      " [ 9 10 11 12]]\n",
      "\n"
     ]
    }
   ],
   "source": [
    "A = arr.copy()\n",
    "B = arr.copy()\n",
    "print(f\"\"\"\n",
    "A: {A}\n",
    "B: {B}\n",
    "\"\"\")"
   ]
  },
  {
   "cell_type": "code",
   "execution_count": 85,
   "id": "3cefdfee-d8c7-4bee-b953-638e0eb9f51c",
   "metadata": {
    "scrolled": true
   },
   "outputs": [
    {
     "name": "stdout",
     "output_type": "stream",
     "text": [
      "\n",
      "Index wise multiplication: [[  1   4   9  16]\n",
      " [ 25  36  49  64]\n",
      " [ 81 100 121 144]]\n",
      "Matrix Multiplication: [[ 30  70 110]\n",
      " [ 70 174 278]\n",
      " [110 278 446]]   # Because size  A = 3,4 & B = 3,4 \n",
      "Matrix Multiplication: [[ 30  70 110]\n",
      " [ 70 174 278]\n",
      " [110 278 446]]\n",
      "Add both Matrix: [[ 2  4  6  8]\n",
      " [10 12 14 16]\n",
      " [18 20 22 24]]\n",
      "Subtract Matrix B from A: [[0 0 0 0]\n",
      " [0 0 0 0]\n",
      " [0 0 0 0]]\n",
      "Divide Matrix B by A:  [[1. 1. 1. 1.]\n",
      " [1. 1. 1. 1.]\n",
      " [1. 1. 1. 1.]]\n",
      "\n"
     ]
    }
   ],
   "source": [
    "print(f\"\"\"\n",
    "Index wise multiplication: {A*B}\n",
    "Matrix Multiplication: {A @ B.T}   # Because size  A = 3,4 & B = 3,4 \n",
    "Matrix Multiplication: {np.dot(A,B.T)}\n",
    "Add both Matrix: {A+B}\n",
    "Subtract Matrix B from A: {B-A}\n",
    "Divide Matrix B by A:  {B/A}\n",
    "\"\"\")"
   ]
  },
  {
   "cell_type": "markdown",
   "id": "c02d73e2-0ddc-41fb-a2aa-b6375f8190df",
   "metadata": {},
   "source": [
    "# 12.  Which function in Numpy can be used to swap the byte order of an array?"
   ]
  },
  {
   "cell_type": "code",
   "execution_count": 93,
   "id": "7d9f5343-26c8-4bcb-838f-b85ee329c6cb",
   "metadata": {},
   "outputs": [
    {
     "data": {
      "text/plain": [
       "array([[ 16777216,  33554432,  50331648,  67108864],\n",
       "       [ 83886080, 100663296, 117440512, 134217728],\n",
       "       [150994944, 167772160, 184549376, 201326592]])"
      ]
     },
     "execution_count": 93,
     "metadata": {},
     "output_type": "execute_result"
    }
   ],
   "source": [
    "A.byteswap()"
   ]
  },
  {
   "cell_type": "markdown",
   "id": "ac3112ec-e8de-4cf9-bd26-71c49c9c568c",
   "metadata": {},
   "source": [
    "# 13.  What is the significance of the np.linalg.inv function?\n",
    "The `np.linalg.inv()` function in NumPy is used to compute the multiplicative inverse of a square matrix. Understanding this function and its significance is crucial in many fields, especially in linear algebra, data science, and various numerical applications."
   ]
  },
  {
   "cell_type": "code",
   "execution_count": 118,
   "id": "aaffb766-1eb3-4db6-ab61-4a89c842ffd8",
   "metadata": {},
   "outputs": [
    {
     "name": "stdout",
     "output_type": "stream",
     "text": [
      "Multiplicative inverse of \n",
      "[[2 9 8]\n",
      " [3 1 3]\n",
      " [2 8 2]]   \n",
      "   ||\n",
      "[[-0.16666667  0.34848485  0.14393939]\n",
      " [ 0.         -0.09090909  0.13636364]\n",
      " [ 0.16666667  0.01515152 -0.18939394]]\n"
     ]
    }
   ],
   "source": [
    "a = np.random.randint(1,10, size = (3,3))\n",
    "print(f\"\"\"Multiplicative inverse of \n",
    "{a}   \\n   ||\\n{np.linalg.inv(a)}\"\"\")"
   ]
  },
  {
   "cell_type": "markdown",
   "id": "6748c948-1a1a-4e86-8ed2-7d199f662b05",
   "metadata": {},
   "source": [
    "# 14. What does the np.reshape function do, and how is it used?\n",
    "a.reshape(shape, order='C')\n",
    "\n",
    "Returns an array containing the same data with a new shape.\n",
    "# 15. What is broadcasting in Numpy\n",
    "allows for element-wise operations between arrays of different shapes. Instead of requiring arrays to be of the same shape, broadcasting automatically expands the smaller array across the larger array so that they have compatible shapes for operations like addition, multiplication, etc.\n",
    "\n",
    "Key Concepts of Broadcasting\n",
    "Shape Compatibility:\n",
    "\n",
    "Two arrays are compatible for broadcasting if, when aligned from the trailing dimensions, all corresponding dimensions either:\n",
    "- Are equal, or\n",
    "- One of them is 1.\n",
    "\n",
    "Broadcasting Rules:\n",
    "\n",
    "              Rule 1: If the arrays do not have the same number of dimensions, prepend dimensions of size 1 to the smaller array.\n",
    "\n",
    "              Rule 2: The size in each dimension must be the same, or one of the sizes is 1."
   ]
  },
  {
   "cell_type": "code",
   "execution_count": 123,
   "id": "19b2d4cb-ab2b-485c-96ea-9d723f812e9a",
   "metadata": {},
   "outputs": [
    {
     "name": "stdout",
     "output_type": "stream",
     "text": [
      "[[2 3 4]\n",
      " [3 4 5]\n",
      " [4 5 6]]\n"
     ]
    }
   ],
   "source": [
    "import numpy as np\n",
    "\n",
    "# Array 'a' is of shape (3,)\n",
    "a = np.array([1, 2, 3])\n",
    "\n",
    "# Array 'b' is of shape (3, 1)\n",
    "b = np.array([[1], [2], [3]])\n",
    "\n",
    "# Broadcasting 'a' to the shape of 'b' for element-wise addition\n",
    "c = a + b\n",
    "print(c)\n"
   ]
  },
  {
   "cell_type": "code",
   "execution_count": 125,
   "id": "85d35775-2019-42d3-91cd-84f5efde6480",
   "metadata": {},
   "outputs": [
    {
     "name": "stdout",
     "output_type": "stream",
     "text": [
      "[2 4 6]\n"
     ]
    }
   ],
   "source": [
    "import numpy as np\n",
    "\n",
    "# Array 'a' is of shape (3,)\n",
    "a = np.array([1, 2, 3])\n",
    "\n",
    "# Scalar value 'b'\n",
    "b = 2\n",
    "\n",
    "# Broadcasting the scalar across the array for multiplication\n",
    "c = a * b\n",
    "print(c)\n"
   ]
  },
  {
   "cell_type": "markdown",
   "id": "e9577a93-e538-4f5e-b023-d5f636fb7309",
   "metadata": {},
   "source": [
    "The `ndarray.byteswap()` method in NumPy is used to swap the byte order of elements within an array, effectively toggling between different endianness representations (big-endian and little-endian). Endianness refers to the order in which bytes are arranged within a data type. In a big-endian system, the most significant byte (the \"big end\") is stored at the smallest memory address, while in a little-endian system, the least significant byte is stored first.\n",
    "\n",
    "### Why is `byteswap()` Important?\n",
    "Endianness is significant in scenarios where data is transferred between different systems that may have different byte orders. For example, data might be written on a system that uses big-endian format and then read on a system that uses little-endian format. Without converting between these formats, the data would be interpreted incorrectly, leading to potentially significant errors.\n",
    "\n",
    "### Application in Data Science\n",
    "In Data Science, `byteswap()` can be crucial when working with binary data formats or when performing low-level data manipulations, such as:\n",
    "1. **Cross-System Compatibility**: When processing datasets that were generated on different architectures (e.g., between big-endian and little-endian systems), `byteswap()` helps ensure that data is correctly interpreted.\n",
    "2. **Data Integration**: When merging data from different sources or systems, it's important to handle endianness properly to avoid corrupted or misinterpreted data.\n",
    "3. **Machine Learning Preprocessing**: When deploying models across various platforms, ensuring that the data fed to the model is in the correct byte order can prevent runtime errors or incorrect predictions.\n",
    "\n",
    "### Application in Software Development\n",
    "In software development, particularly in system programming or network programming, `byteswap()` is used in:\n",
    "1. **Network Protocols**: Many network protocols specify the byte order (often big-endian, also known as \"network byte order\"). Developers must ensure that data sent over the network is in the correct byte order, and `byteswap()` is a convenient tool for this.\n",
    "2. **File I/O**: When reading or writing binary files that are meant to be cross-platform, developers need to ensure that the byte order is consistent. `byteswap()` allows toggling the byte order to match the required format.\n",
    "3. **Hardware Interfacing**: Interfacing with hardware devices that have specific byte order requirements often necessitates converting data to the appropriate format using `byteswap()`.\n",
    "\n",
    "### Example Scenario\n",
    "Imagine you're working on a cross-platform machine learning project where the training data is stored in a binary format. The data was generated on a big-endian system but needs to be processed on a little-endian system. Using `byteswap()` allows you to convert the data into the correct byte order before feeding it into your machine learning pipeline."
   ]
  },
  {
   "cell_type": "code",
   "execution_count": null,
   "id": "30e4d65b-901b-4016-80a6-0fea5f36d826",
   "metadata": {},
   "outputs": [],
   "source": []
  },
  {
   "cell_type": "code",
   "execution_count": null,
   "id": "03718bfc-4e5d-4cf6-95b8-df0dc557d66f",
   "metadata": {},
   "outputs": [],
   "source": []
  },
  {
   "cell_type": "markdown",
   "id": "8a893e86-dae6-4d7e-ae66-51c6009984d5",
   "metadata": {},
   "source": [
    "5. How ^o you access the element at the thir^ row an^ fourth column from the given numpy array?\n",
    "\n",
    "[[1, 2, 3, 4]\n",
    "\n",
    "[5, 6, 7, 8],\n",
    "\n",
    "[9, 10, 11, 12]]\n",
    "\n",
    "\n",
    "6. Write co^e to extract all o^^-in^exe^ elements from the given numpy array?\n",
    "\n",
    "[[1, 2, 3, 4]\n",
    "\n",
    "[5, 6, 7, 8],\n",
    "\n",
    "[9, 10, 11, 12]]\n",
    "\n",
    "\n",
    "7. How can you generate a ran^om 3x3 matrix with values between 0 an^ 1?\n",
    "\n",
    "\n",
    "8. Describe the ^ifference between np.ran^om.ran^ an^ np.ran^om.ran^n?\n",
    "\n",
    " \n",
    "\n",
    "9. Write co^e to increase the ^imension of the following array?\n",
    "\n",
    "[[1, 2, 3, 4]\n",
    "\n",
    "[5, 6, 7, 8],\n",
    "\n",
    "[9, 10, 11, 12]]\n",
    "\n",
    "\n",
    "10. How to transpose the following array in NumPy?\n",
    "\n",
    "[[1, 2, 3, 4]\n",
    "\n",
    "[5, 6, 7, 8],\n",
    "\n",
    "[9, 10, 11, 12]]\n",
    "\n",
    "\n",
    "11. Consi^er the following matrix:\n",
    "\n",
    "Matrix A2 [[1, 2, 3, 4] [5, 6, 7, 8],[9, 10, 11, 12]]\n",
    "\n",
    "Matrix B2 [[1, 2, 3, 4] [5, 6, 7, 8],[9, 10, 11, 12]]\n",
    "\n",
    "\n",
    "Perform the following operation using Python1\n",
    ",+ I(dex wiLe multiplicatio'\n",
    "]+ Mat\u001bix multiplicatio'\n",
    "\u001a+ Add both the mat\u001bicK\n",
    "-+ Subt\u001bact mat\u001bix B \u0014\u001bom \u0011\n",
    "\u0013+ Di\u0012ide Mat\u001bix B by A\n",
    "\n",
    "\n",
    "12.  Which function in Numpy can be use^ to swap the byte or^er of an array?\n",
    "\n",
    "13.  What is the significance of the np.linalg.inv function?\n",
    "\n",
    "14. What ^oes the np.reshape function ^o, an^ how is it use^?\n",
    "\n",
    "15. What is broa^casting in Numpy"
   ]
  }
 ],
 "metadata": {
  "kernelspec": {
   "display_name": "Python 3 (ipykernel)",
   "language": "python",
   "name": "python3"
  },
  "language_info": {
   "codemirror_mode": {
    "name": "ipython",
    "version": 3
   },
   "file_extension": ".py",
   "mimetype": "text/x-python",
   "name": "python",
   "nbconvert_exporter": "python",
   "pygments_lexer": "ipython3",
   "version": "3.11.7"
  },
  "widgets": {
   "application/vnd.jupyter.widget-state+json": {
    "state": {},
    "version_major": 2,
    "version_minor": 0
   }
  }
 },
 "nbformat": 4,
 "nbformat_minor": 5
}
