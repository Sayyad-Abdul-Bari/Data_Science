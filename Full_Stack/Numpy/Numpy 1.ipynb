{
 "cells": [
  {
   "cell_type": "markdown",
   "id": "033d0574-1b7b-4912-8f5c-aa3f6b143cd2",
   "metadata": {},
   "source": [
    "### Deep vs. Shallow Copy\n",
    "- **Shallow Copy**: Copies reference to the original object. Changes in one affect the other. \n",
    "- **Deep Copy**: Creates a new object, fully independent of the original."
   ]
  },
  {
   "cell_type": "code",
   "execution_count": 40,
   "id": "aab00ca7-fc3d-4f72-9329-5a95db8c1ca5",
   "metadata": {},
   "outputs": [
    {
     "name": "stdout",
     "output_type": "stream",
     "text": [
      "Original:  [1, 2, 3]\n",
      "1. shallow copy:  ['change', 2, 3]\n",
      "True\n",
      "Original:  [1, 2, 3]\n",
      "1. deep copy:  [1, 2, 3]\n",
      "False\n"
     ]
    }
   ],
   "source": [
    "# Shallow copy\n",
    "original = [1,2,3]\n",
    "print(\"Original: \", original)\n",
    "shallow_copy = original\n",
    "original [0] = 'change'\n",
    "print(\"1. shallow copy: \",shallow_copy)\n",
    "print(original is shallow_copy)\n",
    "\n",
    "# Deep copy\n",
    "original = [1,2,3]\n",
    "print(\"Original: \", original)\n",
    "deep_copy = original.copy()\n",
    "original [0] = 'change'\n",
    "print(\"1. deep copy: \",deep_copy)\n",
    "print(original is deep_copy)"
   ]
  },
  {
   "cell_type": "markdown",
   "id": "ef0502b6-a54c-4ded-a2a4-6eb7c32d2484",
   "metadata": {},
   "source": [
    "# NumPy Notes\n",
    "\n",
    "### Overview\n",
    "- **NumPy**: Numerical Python (NumPy) is a powerful library for numerical computing in Python, extensively used for scientific computations.\n",
    "- **Built on C++**: NumPy is implemented in C and C++ for efficient computation.\n",
    "- **Key Features**:\n",
    "  1. An array object of arbitrary homogeneous items.\n",
    "  2. Fast mathematical operations over arrays.\n",
    "  3. Linear Algebra, Fourier Transforms, Random Number Generation.\n",
    "\n",
    "### Benefits of NumPy\n",
    "- **Scientific Calculations**: NumPy is widely used for tasks requiring scientific computation.\n",
    "- **No Zero Division Error**: Unlike Python lists, NumPy handles calculations like division by zero gracefully.\n",
    "- **Efficient Memory Allocation**: Homogeneous arrays ensure efficient memory storage and faster access compared to Python lists.\n",
    "\n",
    "### Arrays vs. Lists\n",
    "- **Array**: Homogeneous, faster, and more memory-efficient. Stores elements in a contiguous block of memory.\n",
    "- **List**: Heterogeneous, elements stored in random locations.\n",
    "  \n",
    "  | Feature          | NumPy Array                 | Python List               |\n",
    "  |------------------|-----------------------------|---------------------------|\n",
    "  | Data Type        | Homogeneous (same type)      | Heterogeneous (any type)   |\n",
    "  | Speed            | Faster (due to C backend)    | Slower                    |\n",
    "  | Memory Efficiency| More efficient               | Less efficient            |\n",
    "\n",
    "- **Matrix vs. Array**: A matrix in NumPy is a subclass of arrays, specifically 2D. Use matrices for specific linear algebra operations.\n",
    "\n",
    "### Dimensions in NumPy\n",
    "- **1D (Vector)**: A single dimension array.\n",
    "- **2D (Matrix)**: Two-dimensional array.\n",
    "- **3D (Tensor)**: Higher-dimensional data representation.\n",
    "\n",
    "### Linear Algebra in NumPy\n",
    "- **Matrix Operations**: NumPy has built-in functions for matrix multiplication, transposition, and solving linear equations.\n",
    "\n",
    "### Fourier Transforms and Random Number Generation\n",
    "- **Fourier Transform**: NumPy includes fast Fourier transform routines to analyze frequency components of signals.\n",
    "- **Random Number Generation**: The `np.random` module is used for generating random numbers from various distributions.\n",
    "\n",
    "### Utility Functions\n",
    "- **np.info()**: Provides detailed information about NumPy objects.\n",
    "- **np.lookfor()**: Searches NumPy documentation for a keyword.\n",
    "  \n",
    "### In-place vs. Copy Operations\n",
    "- **In-place Operations**: Modify the original array without creating a copy (e.g., `x.sort()`).\n",
    "- **Copy Operations**: Return a new array with the result (e.g., `np.sort(x)`).\n",
    "\n"
   ]
  },
  {
   "cell_type": "code",
   "execution_count": 341,
   "id": "aa3e6023-9633-4f69-b6dc-2c4b3cc2151b",
   "metadata": {},
   "outputs": [
    {
     "name": "stdout",
     "output_type": "stream",
     "text": [
      "Time taken for vectorized calculation: 2.5854110717773438millisecond\n",
      "Time taken for calculation using a for loop: 540.1439666748047 milliseconds\n"
     ]
    }
   ],
   "source": [
    "import numpy as np\n",
    "import time\n",
    "\n",
    "# Generate the two random Numpy arrays with one million elements each\n",
    "array1 = np.random.rand(1000000)\n",
    "array2 = np.random.rand(1000000)\n",
    "\n",
    "\n",
    "start_time_vectorized = time.time()\n",
    "result = np.dot(array1, array2)\n",
    "\n",
    "# Measure time for vector version \n",
    "print(\"Time taken for vectorized calculation: \" + str(1000 * (time.time() - start_time_vectorized)) + \"millisecond\")\n",
    "\n",
    "\n",
    "# Reset result_vectorized to 0\n",
    "result_vectorized = 0\n",
    "\n",
    "# Measure time for the version using a for loop\n",
    "start_time_for_loop = time.time()\n",
    "for index in range(1000000):\n",
    "    result_vectorized += array1[index] * array2[index]\n",
    "\n",
    "# Print the time taken for the for loop version\n",
    "print(\"Time taken for calculation using a for loop: \" + str(1000 * (time.time() - start_time_for_loop)) + \" milliseconds\")"
   ]
  },
  {
   "cell_type": "code",
   "execution_count": 52,
   "id": "ab064c4e-d75f-4031-a73d-e073a6d5b991",
   "metadata": {},
   "outputs": [
    {
     "name": "stdout",
     "output_type": "stream",
     "text": [
      "1.26.4\n"
     ]
    }
   ],
   "source": [
    "import numpy as np\n",
    "print(np.__version__)\n",
    "# print(np.__doc__)"
   ]
  },
  {
   "cell_type": "markdown",
   "id": "8744787f-6613-4d41-a1e6-10d2cb2135ee",
   "metadata": {},
   "source": [
    "## np.array"
   ]
  },
  {
   "cell_type": "code",
   "execution_count": 88,
   "id": "30d72c93-563f-4c42-a635-55ba51e439bb",
   "metadata": {},
   "outputs": [
    {
     "name": "stdout",
     "output_type": "stream",
     "text": [
      "Array from list: [1 2 3]\n",
      "Array from tuple: [1 2 3]\n",
      "Array from dictionary values: [['a' '1']\n",
      " ['b' '2']]\n",
      "Array from set: {1, 2, 3, 4}\n",
      "Array from string: sads\n"
     ]
    }
   ],
   "source": [
    "l = [1,2,3]\n",
    "t = (1,2,3)\n",
    "d = {'a': 1,  'b': 2}\n",
    "d1 = {'a': [1,2],  'b': [2,3]}\n",
    "s = {1,2,3,4}\n",
    "st = 'sads'\n",
    "\n",
    "# Convert list to numpy array\n",
    "'''\n",
    "np.array(object, dtype=None, *, copy=True, order='K', subok=False, ndmin=0,\n",
    "      like=None)\n",
    "\n",
    "* (Keyword-Only Arguments Separator):\n",
    "Description: The * is a syntactical feature in Python that indicates all following parameters are keyword-only, meaning they must be passed by name \n",
    "rather than position.\n",
    "      '''\n",
    "\n",
    "# Convert each to a NumPy array\n",
    "array_l = np.array(l)\n",
    "array_t = np.array(t)\n",
    "array_d = np.array(list(d.items()))  # Convert dictionary values to array\n",
    "# array_d1 = np.array(list(d1.items()))  #ValueError: setting an array element with a sequence. The requested array has an inhomogeneous shape after 2 dimensions. The detected shape was (2, 2) + inhomogeneous part.\n",
    "\n",
    "array_s = np.array(s)           # Convert set to array\n",
    "array_st = np.array((st))         # Convert string to array (character by character)\n",
    "\n",
    "# Print the resulting arrays\n",
    "print(\"Array from list:\", array_l)\n",
    "print(\"Array from tuple:\", array_t)\n",
    "print(\"Array from dictionary values:\", array_d)\n",
    "print(\"Array from set:\", array_s)\n",
    "print(\"Array from string:\", array_st)"
   ]
  },
  {
   "cell_type": "code",
   "execution_count": 169,
   "id": "861f9d97-280e-46f9-8799-3e1aa7e3f408",
   "metadata": {},
   "outputs": [
    {
     "name": "stdout",
     "output_type": "stream",
     "text": [
      "Rows:  <U32\n",
      "Row- Column: dtype  <U1\n",
      "tpye:  <class 'numpy.str_'>\n",
      "Row- Column: dtype  <U1\n",
      "tpye:  <class 'numpy.str_'>\n",
      "Rows:  <U32\n",
      "Row- Column: dtype  <U1\n",
      "tpye:  <class 'numpy.str_'>\n",
      "Row- Column: dtype  <U3\n",
      "tpye:  <class 'numpy.str_'>\n"
     ]
    },
    {
     "data": {
      "text/plain": [
       "'NumPy arrays require all elements to be of the same data type. To achieve this, NumPy automatically determines a common data type that can accommodate all elements in l1.\\nIn this case, since the list contains a mix of integers, a string, and a float, NumPy promotes all elements to the data type that can encompass all of them: string (<U32).\\nHere, <U32 is a Unicode string data type with a maximum length of 32 characters.'"
      ]
     },
     "execution_count": 169,
     "metadata": {},
     "output_type": "execute_result"
    }
   ],
   "source": [
    "l1 = [[1,2], ['b', 1.0]]\n",
    "l1 = np.array(l1)\n",
    "for i in l1:\n",
    "    print(\"Rows: \",i.dtype)\n",
    "    for j in i:\n",
    "        print(\"Row- Column: dtype \",j.dtype)\n",
    "        print(\"tpye: \",type(j))\n",
    "'''NumPy arrays require all elements to be of the same data type. To achieve this, NumPy automatically determines a common data type that can accommodate all elements in l1.\n",
    "In this case, since the list contains a mix of integers, a string, and a float, NumPy promotes all elements to the data type that can encompass all of them: string (<U32).\n",
    "Here, <U32 is a Unicode string data type with a maximum length of 32 characters.'''"
   ]
  },
  {
   "cell_type": "code",
   "execution_count": 122,
   "id": "e74bb583-6e8c-4e56-aa4e-677cd5d0b440",
   "metadata": {},
   "outputs": [
    {
     "name": "stdout",
     "output_type": "stream",
     "text": [
      "dtype: [1. 2. 3.]\n",
      "[[[[[1 2]\n",
      "    [3 4]]]]]\n",
      "<class '__main__.MyArray'>\n",
      "Custom method\n"
     ]
    }
   ],
   "source": [
    "'''\n",
    "np.array(object, dtype = None, copy = True, order = 'K', subok=Falsendim = 0)\n",
    "\n",
    "dtype = int, float, object, complex, bool,etc\n",
    "copy = False : allows NumPy to create an array without duplicating the data if it is already in the correct form.\n",
    "\n",
    "order = \n",
    "The order parameter controls the memory layout of the array. The memory layout affects how the elements of the array are stored in \n",
    "memory and how they are accessed. The choice of memory layout can impact performance, especially in numerical computations and when \n",
    "interfacing with other libraries.Possible Values:\n",
    "'C': Row-major (C-style) order.This is the default memory layout in NumPy. It is useful when you need to interact with C libraries or when row-wise operations are more frequent.\n",
    "'F': Column-major (Fortran-style) order. This layout is preferred when working with Fortran libraries or when column-wise operations are more frequent.\n",
    "'A': Fortran-style order if the input is Fortran contiguous, C-style otherwise. Use when you want to preserve the memory layout of the original array, especially when converting or copying arrays.\n",
    "'K': Match the layout of the input as closely as possible. This is useful when you want to ensure that the array's memory layout is preserved, which can be important in performance-critical applications.\n",
    "\n",
    "subok = True: If subok=True, then subclasses of ndarray are allowed, and the returned array will maintain the type of the subclass.Useful when working with custom subclasses of ndarray that have additional methods or properties. Setting subok=True ensures that these methods and properties are preserved.\n",
    "ndmin  = Specifies the minimum number of dimensions that the resulting array should have.\n",
    "like = Reference array to look for overriding the __array_function__ implementation.\n",
    "It allows creating an array like the like array, following its conventions.\n",
    "'''\n",
    "print(f\"dtype: {np.array(l, dtype = float, order = 'A')}\")\n",
    "arr = np.array([[1, 2], [3, 4]], order='C', ndmin = 5)\n",
    "print(arr)\n",
    "\n",
    "class MyArray(np.ndarray):\n",
    "    def custom_method(self):\n",
    "        return \"Custom method\"\n",
    "\n",
    "arr = MyArray([1, 2, 3])\n",
    "arr_subok = np.array(arr, subok=True)\n",
    "print(type(arr_subok))  # Output: <class '__main__.MyArray'>\n",
    "print(arr_subok.custom_method())  # Output: Custom method\n"
   ]
  },
  {
   "cell_type": "markdown",
   "id": "a0509037-661b-48fc-a227-bd8f6ea745aa",
   "metadata": {},
   "source": [
    "## \n",
    "- `Matrix`np.matrix(data, dtype=None, copy=True)\n",
    "- - By default 2D "
   ]
  },
  {
   "cell_type": "code",
   "execution_count": 129,
   "id": "4d562c4f-426b-43c1-9558-aa82c76186f9",
   "metadata": {},
   "outputs": [
    {
     "name": "stdout",
     "output_type": "stream",
     "text": [
      "[[1 2 3]]\n"
     ]
    }
   ],
   "source": [
    "print(np.matrix(l))"
   ]
  },
  {
   "cell_type": "markdown",
   "id": "af4cfec9-1c39-44aa-ba56-63777b688934",
   "metadata": {},
   "source": [
    "## Shape, Size, Dimension"
   ]
  },
  {
   "cell_type": "code",
   "execution_count": 178,
   "id": "46647753-b6fc-4ce3-aac7-79743a64ff12",
   "metadata": {},
   "outputs": [
    {
     "name": "stdout",
     "output_type": "stream",
     "text": [
      "\n",
      "Array: [[[1. 0. 2.]\n",
      "  [0. 3. 0.]]]\n",
      "Shape: (1, 2, 3)\n",
      "Size: 6\n",
      "Dimensions: 3\n"
     ]
    }
   ],
   "source": [
    "# Shape\n",
    "print(f\"\"\"\n",
    "Array: {arr}\n",
    "Shape: {arr.shape}\n",
    "Size: {arr.size}\n",
    "Dimensions: {arr.ndim}\"\"\")\n"
   ]
  },
  {
   "cell_type": "markdown",
   "id": "62ee0b94-ddf4-4e92-a5c4-5b56c87382eb",
   "metadata": {},
   "source": [
    "Summary\n",
    "- `np.array`: Always creates a new array. Useful when you need to create an array from scratch and potentially specify the dtype or other properties.\n",
    "- `np.asarray`: Converts input to an array but avoids copying if the input is already a NumPy array with the correct dtype and order. Useful for efficiency when the input may already be an array.\n",
    "- `np.asanyarray`: Converts input to an array but preserves ndarray subclasses. Useful when working with custom or specialized array types that should not be converted to base ndarray.."
   ]
  },
  {
   "cell_type": "markdown",
   "id": "4fde4fc3-fa6e-41a3-825b-19c0d83fc98f",
   "metadata": {},
   "source": [
    "- **`np.array`:** Always creates a new `ndarray` instance. If the input is a subclass of `ndarray`, it is converted to a base `ndarray`, losing any specialized behavior.\n",
    "  \n",
    "- **`np.asarray`:** Converts the input to a NumPy array but will not make a copy if the input is already an `ndarray` with the correct dtype and order. It does not necessarily preserve subclasses if they do not match the expected dtype and order.\n",
    "\n",
    "- **`np.asanyarray`:** Specifically designed to preserve subclasses, which is important when working with custom array types that need to retain their extended functionality.\n",
    "\n",
    "### **Summary**\n",
    "\n",
    "`np.asanyarray` is valuable when you have custom or specialized array types derived from `ndarray` and you want to ensure that operations or conversions do not strip away the subclass-specific features. It helps maintain the integrity and functionality of custom array types throughout your code."
   ]
  },
  {
   "cell_type": "markdown",
   "id": "bfaf7562-2bfc-4888-8c70-75c3c4703e7b",
   "metadata": {},
   "source": [
    "## np.`fromfunction`(function, shape, *, dtype=<class 'float'>, like=None, **kwargs)\n",
    "- Construct an array by executing a function over each coordinate.\n",
    "- The resulting array therefore has a value fn(x, y, z) at coordinate (x, y, z)\n",
    "## np.`fromiter`(iter, dtype, count=-1, *, like=None)\n",
    "\n",
    "- Create a new 1-dimensional array from an iterable object.\n",
    "- count parameter specifies the number of items to read from the iterator. -1 means no limit to read the parameter from iterable\n",
    "## np.`fromstring`(string, dtype=float, count=-1, *, sep, like=None)\n",
    "- A new 1-D array initialized from text data in a string."
   ]
  },
  {
   "cell_type": "code",
   "execution_count": 189,
   "id": "e2544c10-7b46-4fb2-859f-fd4e31a11b65",
   "metadata": {},
   "outputs": [
    {
     "data": {
      "text/plain": [
       "array([[0., 0., 0.],\n",
       "       [0., 1., 2.]])"
      ]
     },
     "execution_count": 189,
     "metadata": {},
     "output_type": "execute_result"
    }
   ],
   "source": [
    "np.fromfunction(lambda i,j: i*j, shape = (2,3) )"
   ]
  },
  {
   "cell_type": "code",
   "execution_count": 197,
   "id": "5312dc9e-b82a-4ff5-b5e1-747d2c35334e",
   "metadata": {},
   "outputs": [
    {
     "data": {
      "text/plain": [
       "array([[[0., 0., 0., 0.],\n",
       "        [0., 0., 0., 0.],\n",
       "        [0., 0., 0., 0.]],\n",
       "\n",
       "       [[0., 0., 0., 0.],\n",
       "        [0., 1., 2., 3.],\n",
       "        [0., 2., 4., 6.]]])"
      ]
     },
     "execution_count": 197,
     "metadata": {},
     "output_type": "execute_result"
    }
   ],
   "source": [
    "np.fromfunction(lambda i,j,k: i*j*k, shape = (2,3,4) )   # i,j,k are indexing"
   ]
  },
  {
   "cell_type": "code",
   "execution_count": 212,
   "id": "2fcdff85-0b2e-442d-b70e-9b96dd2ce933",
   "metadata": {},
   "outputs": [
    {
     "name": "stdout",
     "output_type": "stream",
     "text": [
      "[[0 2 4]\n",
      " [2 4 6]\n",
      " [4 6 8]]\n"
     ]
    }
   ],
   "source": [
    "# Define a function that takes additional keyword arguments\n",
    "def my_function(x, y, factor=1):\n",
    "    return (x + y) * factor\n",
    "\n",
    "# Use np.fromfunction with **kwargs\n",
    "shape = (3, 3)\n",
    "result = np.fromfunction(lambda x, y: my_function(x, y, factor=2), shape, dtype=int)\n",
    "\n",
    "print(result)"
   ]
  },
  {
   "cell_type": "code",
   "execution_count": 220,
   "id": "3c9440c4-add5-4a94-af63-5a55cb4317ef",
   "metadata": {},
   "outputs": [
    {
     "name": "stdout",
     "output_type": "stream",
     "text": [
      "[0, 1, 2, 3, 4]\n",
      "<generator object <genexpr> at 0x00000275D87AFD30>\n",
      "0 1\n"
     ]
    }
   ],
   "source": [
    "print([i for i in range(5)])  # List comprehension\n",
    "iterable = (i for i in range(5)) # Iterable\n",
    "print(iterable)  \n",
    "print(next(iterable), next(iterable))"
   ]
  },
  {
   "cell_type": "code",
   "execution_count": 222,
   "id": "5d7dcd14-66b2-4e2d-a123-62dcb4c1bf93",
   "metadata": {},
   "outputs": [
    {
     "data": {
      "text/plain": [
       "array([2, 3, 4])"
      ]
     },
     "execution_count": 222,
     "metadata": {},
     "output_type": "execute_result"
    }
   ],
   "source": [
    "np.fromiter(iterable,dtype = int)  # Because 1, 2 already took out"
   ]
  },
  {
   "cell_type": "code",
   "execution_count": 241,
   "id": "0f11c190-08d1-4f84-938b-549619b565c0",
   "metadata": {},
   "outputs": [
    {
     "data": {
      "text/plain": [
       "array(['a', 'b', 'c', 'd'], dtype=object)"
      ]
     },
     "execution_count": 241,
     "metadata": {},
     "output_type": "execute_result"
    }
   ],
   "source": [
    "# Create a NumPy array from a space-separated string\n",
    "np.array('a b c d'.split(), dtype=object)"
   ]
  },
  {
   "cell_type": "code",
   "execution_count": 230,
   "id": "754ea0ba-91eb-4a33-808b-ff43cf80061a",
   "metadata": {},
   "outputs": [
    {
     "data": {
      "text/plain": [
       "array([23, 24, 36])"
      ]
     },
     "execution_count": 230,
     "metadata": {},
     "output_type": "execute_result"
    }
   ],
   "source": [
    "np.fromstring('23 24 36', sep = \" \", dtype = int ) #String not allowed"
   ]
  },
  {
   "cell_type": "markdown",
   "id": "89a45e9c-f752-4760-ad9b-3c57c135fd3b",
   "metadata": {},
   "source": [
    "## Range in list vs `arange` in Numpy\n",
    "- arange([start,] stop[, step,], dtype=None, *, like=None)\r",
    "- \r\n",
    "Return evenly spaced values within a given interval.\r\n"
   ]
  },
  {
   "cell_type": "code",
   "execution_count": 250,
   "id": "3626f96c-c42a-4633-91bc-7fd25d1b3c85",
   "metadata": {
    "scrolled": true
   },
   "outputs": [
    {
     "ename": "TypeError",
     "evalue": "'float' object cannot be interpreted as an integer",
     "output_type": "error",
     "traceback": [
      "\u001b[1;31m---------------------------------------------------------------------------\u001b[0m",
      "\u001b[1;31mTypeError\u001b[0m                                 Traceback (most recent call last)",
      "Cell \u001b[1;32mIn[250], line 1\u001b[0m\n\u001b[1;32m----> 1\u001b[0m \u001b[38;5;28mlist\u001b[39m(\u001b[38;5;28mrange\u001b[39m(\u001b[38;5;241m0\u001b[39m,\u001b[38;5;241m2.1\u001b[39m,\u001b[38;5;241m.1\u001b[39m))\n",
      "\u001b[1;31mTypeError\u001b[0m: 'float' object cannot be interpreted as an integer"
     ]
    }
   ],
   "source": [
    "list(range(0,2.1,.1))"
   ]
  },
  {
   "cell_type": "code",
   "execution_count": 246,
   "id": "0bede238-4c07-4812-bd9c-26a422418b37",
   "metadata": {},
   "outputs": [
    {
     "data": {
      "text/plain": [
       "array([0. , 0.1, 0.2, 0.3, 0.4, 0.5, 0.6, 0.7, 0.8, 0.9, 1. , 1.1, 1.2,\n",
       "       1.3, 1.4, 1.5, 1.6, 1.7, 1.8, 1.9, 2. ])"
      ]
     },
     "execution_count": 246,
     "metadata": {},
     "output_type": "execute_result"
    }
   ],
   "source": [
    "np.arange(0,2.1, .1)"
   ]
  },
  {
   "cell_type": "markdown",
   "id": "d50d609e-5260-46b4-8db0-2aae71d11d00",
   "metadata": {},
   "source": [
    "## `linspace` and `logspace`\n",
    "np.linspace(\r\n",
    "    start,\r\n",
    "    stop,\r\n",
    "    num=50,\r\n",
    "    endpoint=True,\r\n",
    "    retstep=False,\r\n",
    "    dtype=None,\r\n",
    "   ,)\n",
    "\n",
    "retstep : bool, optional\r\n",
    "\n",
    "     If True, return (`samples`, `step`), where `step` is the spacing\r\n",
    "    between sample\n",
    "\n",
    "\n",
    "np.logspace(\r\n",
    "    start,\r\n",
    "    stop,\r\n",
    "    num=50,\r\n",
    "    endpoint=True,\r\n",
    "    base=10.0,\r\n",
    "    dtype=None,\r\n",
    "    a\n",
    "\n",
    "Return numbers spaced evenly on a log scale.\r\n",
    "\r\n",
    "In linear space, the sequence starts at ``base ** start``\r\n",
    "(`base` to the power of `start`) and ends with ``base ** stop``xis=0,\r\n",
    ")s.axis=0,"
   ]
  },
  {
   "cell_type": "code",
   "execution_count": 258,
   "id": "977c5352-198a-42bb-8d28-e788ce7c18ca",
   "metadata": {},
   "outputs": [
    {
     "data": {
      "text/plain": [
       "(array([ 0.        ,  3.33333333,  6.66666667, 10.        ]),\n",
       " 3.3333333333333335)"
      ]
     },
     "execution_count": 258,
     "metadata": {},
     "output_type": "execute_result"
    }
   ],
   "source": [
    "np.linspace(0,10,4,retstep=True)"
   ]
  },
  {
   "cell_type": "code",
   "execution_count": 260,
   "id": "b0f40162-d6a7-45fe-b6a0-6a09882bd794",
   "metadata": {},
   "outputs": [
    {
     "data": {
      "text/plain": [
       "(array([ 0.        ,  3.33333333,  6.66666667, 10.        ]),\n",
       " 3.3333333333333335)"
      ]
     },
     "execution_count": 260,
     "metadata": {},
     "output_type": "execute_result"
    }
   ],
   "source": [
    "np.linspace(0,10,4,retstep=True)"
   ]
  },
  {
   "cell_type": "code",
   "execution_count": 270,
   "id": "1a207f1a-e321-4fce-91ca-7393a52b5efa",
   "metadata": {},
   "outputs": [
    {
     "data": {
      "text/plain": [
       "array([ 9., 27., 81.])"
      ]
     },
     "execution_count": 270,
     "metadata": {},
     "output_type": "execute_result"
    }
   ],
   "source": [
    "np.logspace(2,4, base = 3, num = 3 )"
   ]
  },
  {
   "cell_type": "markdown",
   "id": "307b4ab5-9cbe-4bbf-9e40-435883086bf0",
   "metadata": {},
   "source": [
    "# zero, zero_like, ones, ones_like, full, full_like, empty, empty_like, "
   ]
  },
  {
   "cell_type": "code",
   "execution_count": 272,
   "id": "5694ed29-869c-40f6-a712-44ae51cc05ad",
   "metadata": {},
   "outputs": [
    {
     "data": {
      "text/plain": [
       "array([[0., 0.],\n",
       "       [0., 0.],\n",
       "       [0., 0.]])"
      ]
     },
     "execution_count": 272,
     "metadata": {},
     "output_type": "execute_result"
    }
   ],
   "source": [
    "np.zeros((3,2))"
   ]
  },
  {
   "cell_type": "code",
   "execution_count": 276,
   "id": "ba0878bb-f1a7-4d61-856f-1a710ecc008b",
   "metadata": {},
   "outputs": [
    {
     "data": {
      "text/plain": [
       "array([0, 0])"
      ]
     },
     "execution_count": 276,
     "metadata": {},
     "output_type": "execute_result"
    }
   ],
   "source": [
    "np.zeros_like(np.asarray([1,2]))"
   ]
  },
  {
   "cell_type": "code",
   "execution_count": 278,
   "id": "01b2db8e-f9cc-4fa6-8c89-ba044a4c0611",
   "metadata": {},
   "outputs": [
    {
     "data": {
      "text/plain": [
       "array([[1., 1., 1.],\n",
       "       [1., 1., 1.]])"
      ]
     },
     "execution_count": 278,
     "metadata": {},
     "output_type": "execute_result"
    }
   ],
   "source": [
    "np.ones((2,3))"
   ]
  },
  {
   "cell_type": "code",
   "execution_count": 284,
   "id": "9bf15519-8ec7-4b6c-ae58-a4b1b44154b9",
   "metadata": {
    "scrolled": true
   },
   "outputs": [
    {
     "data": {
      "text/plain": [
       "array([['a', 'a', 'a'],\n",
       "       ['a', 'a', 'a'],\n",
       "       ['a', 'a', 'a']], dtype='<U1')"
      ]
     },
     "execution_count": 284,
     "metadata": {},
     "output_type": "execute_result"
    }
   ],
   "source": [
    "np.full((3,3), 'a')  # np.full(shape, fill_value, dtype=None, order='C', *, like=None)"
   ]
  },
  {
   "cell_type": "code",
   "execution_count": 287,
   "id": "2960d707-50ac-47a5-869a-691c72360e9b",
   "metadata": {},
   "outputs": [
    {
     "data": {
      "text/plain": [
       "array([[ 0.        ,  3.33333333],\n",
       "       [ 6.66666667, 10.        ]])"
      ]
     },
     "execution_count": 287,
     "metadata": {},
     "output_type": "execute_result"
    }
   ],
   "source": [
    "np.empty((2,2)) # Return a new array of given shape and type, without initializing entries."
   ]
  },
  {
   "cell_type": "markdown",
   "id": "885e3fda-2a82-4b7f-a468-4f2e6df5d8f5",
   "metadata": {},
   "source": [
    "## np.`eye`(N, M=None, k=0, dtype=<class 'float'>, order='C', *, like=None)\n",
    "- Return a 2-D array with ones on the diagonal and zeros elsewhere.\n",
    "- N : int\n",
    "  Number of rows in the output.\n",
    "- M : int, optional\n",
    "  Number of columns in the output. If None, defaults to `N`.\n",
    "  \n",
    "- k : int, optional\n",
    "\n",
    "  Index of the diagonal: 0 (the default) refers to the main diagonal,\n",
    "  \n",
    "  '+'value refers to an upper diagonal, and\n",
    "  \n",
    "  '-'value  to a lower diagonal."
   ]
  },
  {
   "cell_type": "code",
   "execution_count": 304,
   "id": "340f6ac5-019f-4fc2-83e7-617b53ffdc5c",
   "metadata": {},
   "outputs": [
    {
     "data": {
      "text/plain": [
       "array([[0., 0., 0., 0., 0., 0.],\n",
       "       [0., 0., 0., 0., 0., 0.],\n",
       "       [1., 0., 0., 0., 0., 0.],\n",
       "       [0., 1., 0., 0., 0., 0.],\n",
       "       [0., 0., 1., 0., 0., 0.]])"
      ]
     },
     "execution_count": 304,
     "metadata": {},
     "output_type": "execute_result"
    }
   ],
   "source": [
    "arr = np.eye(5,6,-2)\n",
    "arr"
   ]
  },
  {
   "cell_type": "code",
   "execution_count": 306,
   "id": "4d2f87ea-9ac6-4246-bd5e-9020a58c745b",
   "metadata": {},
   "outputs": [
    {
     "data": {
      "text/html": [
       "<div>\n",
       "<style scoped>\n",
       "    .dataframe tbody tr th:only-of-type {\n",
       "        vertical-align: middle;\n",
       "    }\n",
       "\n",
       "    .dataframe tbody tr th {\n",
       "        vertical-align: top;\n",
       "    }\n",
       "\n",
       "    .dataframe thead th {\n",
       "        text-align: right;\n",
       "    }\n",
       "</style>\n",
       "<table border=\"1\" class=\"dataframe\">\n",
       "  <thead>\n",
       "    <tr style=\"text-align: right;\">\n",
       "      <th></th>\n",
       "      <th>0</th>\n",
       "      <th>1</th>\n",
       "      <th>2</th>\n",
       "      <th>3</th>\n",
       "      <th>4</th>\n",
       "      <th>5</th>\n",
       "    </tr>\n",
       "  </thead>\n",
       "  <tbody>\n",
       "    <tr>\n",
       "      <th>0</th>\n",
       "      <td>0.0</td>\n",
       "      <td>0.0</td>\n",
       "      <td>0.0</td>\n",
       "      <td>0.0</td>\n",
       "      <td>0.0</td>\n",
       "      <td>0.0</td>\n",
       "    </tr>\n",
       "    <tr>\n",
       "      <th>1</th>\n",
       "      <td>0.0</td>\n",
       "      <td>0.0</td>\n",
       "      <td>0.0</td>\n",
       "      <td>0.0</td>\n",
       "      <td>0.0</td>\n",
       "      <td>0.0</td>\n",
       "    </tr>\n",
       "    <tr>\n",
       "      <th>2</th>\n",
       "      <td>1.0</td>\n",
       "      <td>0.0</td>\n",
       "      <td>0.0</td>\n",
       "      <td>0.0</td>\n",
       "      <td>0.0</td>\n",
       "      <td>0.0</td>\n",
       "    </tr>\n",
       "    <tr>\n",
       "      <th>3</th>\n",
       "      <td>0.0</td>\n",
       "      <td>1.0</td>\n",
       "      <td>0.0</td>\n",
       "      <td>0.0</td>\n",
       "      <td>0.0</td>\n",
       "      <td>0.0</td>\n",
       "    </tr>\n",
       "    <tr>\n",
       "      <th>4</th>\n",
       "      <td>0.0</td>\n",
       "      <td>0.0</td>\n",
       "      <td>1.0</td>\n",
       "      <td>0.0</td>\n",
       "      <td>0.0</td>\n",
       "      <td>0.0</td>\n",
       "    </tr>\n",
       "  </tbody>\n",
       "</table>\n",
       "</div>"
      ],
      "text/plain": [
       "     0    1    2    3    4    5\n",
       "0  0.0  0.0  0.0  0.0  0.0  0.0\n",
       "1  0.0  0.0  0.0  0.0  0.0  0.0\n",
       "2  1.0  0.0  0.0  0.0  0.0  0.0\n",
       "3  0.0  1.0  0.0  0.0  0.0  0.0\n",
       "4  0.0  0.0  1.0  0.0  0.0  0.0"
      ]
     },
     "execution_count": 306,
     "metadata": {},
     "output_type": "execute_result"
    }
   ],
   "source": [
    "import pandas as pd\n",
    "pd.DataFrame(arr)"
   ]
  },
  {
   "cell_type": "markdown",
   "id": "7031a139-fa09-4f7e-88a6-d1c102970e66",
   "metadata": {},
   "source": [
    "# Random"
   ]
  },
  {
   "cell_type": "markdown",
   "id": "d76c7089-7ffb-46f4-bc7b-7f49bf00a8cb",
   "metadata": {},
   "source": [
    "## \n",
    "- choice\n",
    "- randrange\n",
    "- random\n",
    "- shuffle\n",
    "- uniform"
   ]
  },
  {
   "cell_type": "code",
   "execution_count": 309,
   "id": "fca5ecc4-3b41-43df-b85a-6632fbb9ecce",
   "metadata": {},
   "outputs": [
    {
     "data": {
      "text/plain": [
       "2"
      ]
     },
     "execution_count": 309,
     "metadata": {},
     "output_type": "execute_result"
    }
   ],
   "source": [
    "import random\n",
    "random.choice([1,2,3])"
   ]
  },
  {
   "cell_type": "code",
   "execution_count": 311,
   "id": "df3d877e-7699-418d-8d1b-e5bf2a71e7d6",
   "metadata": {},
   "outputs": [
    {
     "data": {
      "text/plain": [
       "8"
      ]
     },
     "execution_count": 311,
     "metadata": {},
     "output_type": "execute_result"
    }
   ],
   "source": [
    "random.randrange(2,10,2)  # return will be int"
   ]
  },
  {
   "cell_type": "code",
   "execution_count": 313,
   "id": "6d5f333d-4e71-48c2-95f9-581af94750a5",
   "metadata": {},
   "outputs": [
    {
     "data": {
      "text/plain": [
       "0.9502123736745469"
      ]
     },
     "execution_count": 313,
     "metadata": {},
     "output_type": "execute_result"
    }
   ],
   "source": [
    "random.random()  # between 0 to 1"
   ]
  },
  {
   "cell_type": "code",
   "execution_count": 326,
   "id": "fca7713f-1bd5-4cbf-b6bc-b2834479ae6c",
   "metadata": {},
   "outputs": [
    {
     "data": {
      "text/plain": [
       "[[3], 1, 2]"
      ]
     },
     "execution_count": 326,
     "metadata": {},
     "output_type": "execute_result"
    }
   ],
   "source": [
    "l = [1,2,[3]]\n",
    "random.shuffle(l)\n",
    "l"
   ]
  },
  {
   "cell_type": "code",
   "execution_count": 328,
   "id": "46d5aaac-a451-4aa3-b0c6-492089a49935",
   "metadata": {},
   "outputs": [
    {
     "data": {
      "text/plain": [
       "8.200408296469128"
      ]
     },
     "execution_count": 328,
     "metadata": {},
     "output_type": "execute_result"
    }
   ],
   "source": [
    "random.uniform(2,45)  # return can be float also"
   ]
  },
  {
   "cell_type": "markdown",
   "id": "148715a9-dcad-4c58-97fa-30a2ecf914d6",
   "metadata": {},
   "source": [
    "## np.random\n",
    "- `rand` : Random numbers in a uniform distribution between 0 and 1.\n",
    "- `randn` : Random numbers from a standard normal distribution with a mean of 0 and a standard deviation of 1.\n",
    "- `random_sample`: Random floats in the range [0.0, 1.0)\n",
    "- `randint` : Random integers between a specified low (inclusive) and high (exclusive) range."
   ]
  },
  {
   "cell_type": "code",
   "execution_count": 334,
   "id": "1334b63b-1c3c-461d-8fef-1968aee677e5",
   "metadata": {},
   "outputs": [
    {
     "name": "stdout",
     "output_type": "stream",
     "text": [
      "[[[0.29864068 0.86160962 0.9058072  0.76858325]\n",
      "  [0.26123164 0.9384556  0.93864246 0.74504455]\n",
      "  [0.91073504 0.23722471 0.49496735 0.80987834]]\n",
      "\n",
      " [[0.95456578 0.63748325 0.91084975 0.69213675]\n",
      "  [0.04294299 0.8335869  0.36994852 0.936557  ]\n",
      "  [0.48305288 0.12533161 0.96445418 0.01702583]]]\n",
      "[[-0.84529039  0.41510056  0.42553059]\n",
      " [-0.98072436 -0.42782611  1.49856996]]\n",
      "0.13889344396681091\n",
      "[[2 3 1 4]\n",
      " [4 1 4 3]\n",
      " [4 3 4 1]]\n"
     ]
    }
   ],
   "source": [
    "print(np.random.rand(2,3,4)) # \n",
    "print(np.random.randn(2,3)) # Normal Distribution\n",
    "print(np.random.random_sample())\n",
    "print(np.random.randint(1,5, size = (3,4)))"
   ]
  },
  {
   "cell_type": "code",
   "execution_count": 349,
   "id": "79b5cc53-a078-4784-80e7-43e234f030c6",
   "metadata": {},
   "outputs": [
    {
     "data": {
      "text/plain": [
       "array([[13, 65, 97, 22],\n",
       "       [38, 18, 45, 63],\n",
       "       [56, 49, 13, 82]])"
      ]
     },
     "execution_count": 349,
     "metadata": {},
     "output_type": "execute_result"
    }
   ],
   "source": [
    "arr = np.random.randint(10,100, size= (3,4))\n",
    "arr"
   ]
  },
  {
   "cell_type": "code",
   "execution_count": 351,
   "id": "92263dc6-6bc3-4bbc-804d-4f40ca51ed16",
   "metadata": {
    "scrolled": true
   },
   "outputs": [
    {
     "data": {
      "text/plain": [
       "array([65, 97, 38, 45, 63, 56, 49, 82])"
      ]
     },
     "execution_count": 351,
     "metadata": {},
     "output_type": "execute_result"
    }
   ],
   "source": [
    "arr[arr>36] # Give all elements where condition is True"
   ]
  },
  {
   "cell_type": "code",
   "execution_count": 353,
   "id": "8295b604-8662-4c2f-a929-7c54a9085b49",
   "metadata": {},
   "outputs": [
    {
     "data": {
      "text/plain": [
       "array([[13, 65, 97, 22],\n",
       "       [38, 18, 45, 63],\n",
       "       [56, 49, 13, 82]])"
      ]
     },
     "execution_count": 353,
     "metadata": {},
     "output_type": "execute_result"
    }
   ],
   "source": [
    "arr"
   ]
  },
  {
   "cell_type": "code",
   "execution_count": 355,
   "id": "3dd6eef3-9472-4865-a000-f9c87e807844",
   "metadata": {},
   "outputs": [
    {
     "data": {
      "text/plain": [
       "array([13, 65, 97, 22])"
      ]
     },
     "execution_count": 355,
     "metadata": {},
     "output_type": "execute_result"
    }
   ],
   "source": [
    "arr[0]"
   ]
  },
  {
   "cell_type": "code",
   "execution_count": 357,
   "id": "b6a40bfd-74ae-4039-8748-3be72e6527b5",
   "metadata": {},
   "outputs": [
    {
     "data": {
      "text/plain": [
       "49"
      ]
     },
     "execution_count": 357,
     "metadata": {},
     "output_type": "execute_result"
    }
   ],
   "source": [
    "arr[2][1]"
   ]
  },
  {
   "cell_type": "code",
   "execution_count": 361,
   "id": "a1ff39ef-f6a6-4bb7-987d-e51a488b2519",
   "metadata": {},
   "outputs": [
    {
     "data": {
      "text/plain": [
       "array([65, 22])"
      ]
     },
     "execution_count": 361,
     "metadata": {},
     "output_type": "execute_result"
    }
   ],
   "source": [
    "arr[0,[1,3]]  #Specific  0th row 1st and 3rd column "
   ]
  },
  {
   "cell_type": "code",
   "execution_count": 363,
   "id": "9d1ceee7-09f2-4c68-aeaa-dbcf9d153a7c",
   "metadata": {},
   "outputs": [
    {
     "data": {
      "text/plain": [
       "array([[13, 82]])"
      ]
     },
     "execution_count": 363,
     "metadata": {},
     "output_type": "execute_result"
    }
   ],
   "source": [
    "arr[2:4,[2,3]]  # Row from 2 to 3 column 2nd and 3rd"
   ]
  },
  {
   "cell_type": "code",
   "execution_count": 68,
   "id": "ec5c4e12-fca2-432c-8386-04c8002e44fa",
   "metadata": {},
   "outputs": [
    {
     "data": {
      "text/plain": [
       "array([[ 925970486,  828585574,  876032557,  909389154,  959263073],\n",
       "       [ 758659376, 1664705894, 1714763060, 1633903971,          0]])"
      ]
     },
     "execution_count": 68,
     "metadata": {},
     "output_type": "execute_result"
    }
   ],
   "source": [
    "arr[2:4]"
   ]
  },
  {
   "cell_type": "code",
   "execution_count": 72,
   "id": "be72c615-2358-4241-9b73-d9774b409909",
   "metadata": {},
   "outputs": [
    {
     "data": {
      "text/plain": [
       "876032557"
      ]
     },
     "execution_count": 72,
     "metadata": {},
     "output_type": "execute_result"
    }
   ],
   "source": [
    "arr[2:4][0,2]"
   ]
  },
  {
   "cell_type": "code",
   "execution_count": 74,
   "id": "dd7e04dc-6a02-497b-934a-46d891b02a3c",
   "metadata": {},
   "outputs": [
    {
     "data": {
      "text/plain": [
       "array([[ 925970486,  876032557],\n",
       "       [ 758659376, 1714763060]])"
      ]
     },
     "execution_count": 74,
     "metadata": {},
     "output_type": "execute_result"
    }
   ],
   "source": [
    "arr[2:4,[0,2]]"
   ]
  },
  {
   "cell_type": "code",
   "execution_count": 76,
   "id": "fac2df17-25d9-496f-8c6e-f37f406c1466",
   "metadata": {},
   "outputs": [
    {
     "data": {
      "text/plain": [
       "array([[ 925970486,  828585574],\n",
       "       [ 758659376, 1664705894]])"
      ]
     },
     "execution_count": 76,
     "metadata": {},
     "output_type": "execute_result"
    }
   ],
   "source": [
    "arr[2:4,0:2] # Slicing"
   ]
  },
  {
   "cell_type": "code",
   "execution_count": 84,
   "id": "cf486553-4b2b-444e-b115-8315abfc1126",
   "metadata": {},
   "outputs": [
    {
     "data": {
      "text/plain": [
       "909389154"
      ]
     },
     "execution_count": 84,
     "metadata": {},
     "output_type": "execute_result"
    }
   ],
   "source": [
    "arr[2,3]"
   ]
  },
  {
   "cell_type": "code",
   "execution_count": 368,
   "id": "e7ca1721-3a40-437d-8939-4e043e6e1089",
   "metadata": {},
   "outputs": [
    {
     "data": {
      "text/plain": [
       "array([[38, 18, 45, 63],\n",
       "       [56, 49, 13, 82]])"
      ]
     },
     "execution_count": 368,
     "metadata": {},
     "output_type": "execute_result"
    }
   ],
   "source": [
    "arr[1:3] #Slicing"
   ]
  },
  {
   "cell_type": "code",
   "execution_count": 378,
   "id": "eb89ab34-f00b-40e5-a654-97480dad40d0",
   "metadata": {},
   "outputs": [
    {
     "name": "stdout",
     "output_type": "stream",
     "text": [
      "[[1 2 3]] [[83 50 26]\n",
      " [37 90 16]\n",
      " [26 65 26]]\n"
     ]
    }
   ],
   "source": [
    "a =  np.array([[1,2,3]])\n",
    "b = np.random.randint(10,100, size = (3,3))\n",
    "print(a, b)"
   ]
  },
  {
   "cell_type": "code",
   "execution_count": 382,
   "id": "c947c9bf-a6f0-4210-b4a7-318cf08a015f",
   "metadata": {},
   "outputs": [
    {
     "data": {
      "text/plain": [
       "array([[ 83, 100,  78],\n",
       "       [ 37, 180,  48],\n",
       "       [ 26, 130,  78]])"
      ]
     },
     "execution_count": 382,
     "metadata": {},
     "output_type": "execute_result"
    }
   ],
   "source": [
    "# Dot product\n",
    "a * b"
   ]
  },
  {
   "cell_type": "code",
   "execution_count": 384,
   "id": "e6f7ea94-260c-49d4-b86c-a9698022fc6b",
   "metadata": {},
   "outputs": [
    {
     "data": {
      "text/plain": [
       "array([[235, 425, 136]])"
      ]
     },
     "execution_count": 384,
     "metadata": {},
     "output_type": "execute_result"
    }
   ],
   "source": [
    "# Cross Product\n",
    "a @ b"
   ]
  },
  {
   "cell_type": "code",
   "execution_count": 386,
   "id": "d4782420-8c03-4ab9-b468-e98d9b953609",
   "metadata": {},
   "outputs": [
    {
     "name": "stdout",
     "output_type": "stream",
     "text": [
      "[[1 2 3]] [[1]\n",
      " [2]\n",
      " [3]]\n"
     ]
    }
   ],
   "source": [
    "# # Broadcasting\n",
    "# Doing operation on each of the element\n",
    "# a + b\n",
    "# a - b\n",
    "# a/5\n",
    "\n",
    "c = np.array([[1,2,3]])\n",
    "t = c.T\n",
    "print(c,t)"
   ]
  },
  {
   "cell_type": "code",
   "execution_count": 388,
   "id": "1d97770d-4e13-468e-b70c-bff49d0bc707",
   "metadata": {},
   "outputs": [
    {
     "data": {
      "text/plain": [
       "array([[1],\n",
       "       [2],\n",
       "       [3]])"
      ]
     },
     "execution_count": 388,
     "metadata": {},
     "output_type": "execute_result"
    }
   ],
   "source": [
    "t"
   ]
  },
  {
   "cell_type": "code",
   "execution_count": 390,
   "id": "9166da21-6be4-4d4d-af3d-ac37aede4e73",
   "metadata": {},
   "outputs": [
    {
     "data": {
      "text/plain": [
       "array([[1, 2, 3]])"
      ]
     },
     "execution_count": 390,
     "metadata": {},
     "output_type": "execute_result"
    }
   ],
   "source": [
    "c"
   ]
  },
  {
   "cell_type": "code",
   "execution_count": 392,
   "id": "039b603f-52aa-4ce5-87cd-0f89613bd013",
   "metadata": {},
   "outputs": [
    {
     "data": {
      "text/plain": [
       "array([[2, 4, 6]])"
      ]
     },
     "execution_count": 392,
     "metadata": {},
     "output_type": "execute_result"
    }
   ],
   "source": [
    "a+ c"
   ]
  },
  {
   "cell_type": "code",
   "execution_count": 394,
   "id": "593e255f-f9be-45bc-b666-ba38a0274674",
   "metadata": {},
   "outputs": [
    {
     "data": {
      "text/plain": [
       "array([[2, 3, 4],\n",
       "       [3, 4, 5],\n",
       "       [4, 5, 6]])"
      ]
     },
     "execution_count": 394,
     "metadata": {},
     "output_type": "execute_result"
    }
   ],
   "source": [
    "a + t"
   ]
  },
  {
   "cell_type": "code",
   "execution_count": 396,
   "id": "1bd3b8f2-1655-49b7-a04b-c85e3c1188f7",
   "metadata": {},
   "outputs": [
    {
     "data": {
      "text/plain": [
       "array([[ 2.71828183,  7.3890561 , 20.08553692]])"
      ]
     },
     "execution_count": 396,
     "metadata": {},
     "output_type": "execute_result"
    }
   ],
   "source": [
    "np.exp(a)"
   ]
  },
  {
   "cell_type": "code",
   "execution_count": 398,
   "id": "9f3c13f3-d67d-4a1b-ae00-2156dcdc327e",
   "metadata": {},
   "outputs": [
    {
     "data": {
      "text/plain": [
       "array([[0.        , 0.69314718, 1.09861229]])"
      ]
     },
     "execution_count": 398,
     "metadata": {},
     "output_type": "execute_result"
    }
   ],
   "source": [
    "np.log(a)"
   ]
  },
  {
   "cell_type": "code",
   "execution_count": 400,
   "id": "1aa5106a-2eb5-4b6b-bf53-47b806fe7fbf",
   "metadata": {},
   "outputs": [
    {
     "data": {
      "text/plain": [
       "1"
      ]
     },
     "execution_count": 400,
     "metadata": {},
     "output_type": "execute_result"
    }
   ],
   "source": [
    "np.min(a)"
   ]
  },
  {
   "cell_type": "code",
   "execution_count": 402,
   "id": "848632b5-7d1d-45e3-803a-2dff42b542d8",
   "metadata": {},
   "outputs": [
    {
     "data": {
      "text/plain": [
       "3"
      ]
     },
     "execution_count": 402,
     "metadata": {},
     "output_type": "execute_result"
    }
   ],
   "source": [
    "np.max(a)"
   ]
  },
  {
   "cell_type": "code",
   "execution_count": 404,
   "id": "bedd55d4-1e02-4464-8792-56321852760c",
   "metadata": {},
   "outputs": [
    {
     "data": {
      "text/plain": [
       "array([1, 2, 3])"
      ]
     },
     "execution_count": 404,
     "metadata": {},
     "output_type": "execute_result"
    }
   ],
   "source": [
    "a.flatten() # Reduce to 1D"
   ]
  },
  {
   "cell_type": "code",
   "execution_count": 406,
   "id": "84e210be-f5e5-4cda-ae6a-bb1d8c15421c",
   "metadata": {},
   "outputs": [],
   "source": [
    "# Axis  = 0 row\n",
    "#Axis = 1 column"
   ]
  },
  {
   "cell_type": "code",
   "execution_count": 408,
   "id": "44abf090-648c-46b6-986f-2e397a1ab0b5",
   "metadata": {},
   "outputs": [
    {
     "data": {
      "text/plain": [
       "6"
      ]
     },
     "execution_count": 408,
     "metadata": {},
     "output_type": "execute_result"
    }
   ],
   "source": [
    "np.sum(a)"
   ]
  },
  {
   "cell_type": "code",
   "execution_count": 412,
   "id": "1c2c5ff1-2fe6-4968-ad4c-d51f00dd32ba",
   "metadata": {},
   "outputs": [
    {
     "data": {
      "text/plain": [
       "array([146, 205,  68])"
      ]
     },
     "execution_count": 412,
     "metadata": {},
     "output_type": "execute_result"
    }
   ],
   "source": [
    "np.sum(b, axis=0)"
   ]
  },
  {
   "cell_type": "code",
   "execution_count": 414,
   "id": "7d4b2e28-59df-4c2e-af0c-2f00b03120a1",
   "metadata": {},
   "outputs": [
    {
     "data": {
      "text/plain": [
       "array([159, 143, 117])"
      ]
     },
     "execution_count": 414,
     "metadata": {},
     "output_type": "execute_result"
    }
   ],
   "source": [
    "np.sum(b, axis = 1)"
   ]
  },
  {
   "cell_type": "code",
   "execution_count": 416,
   "id": "acfe8a3e-bb1b-4f2a-aaca-941106aaf142",
   "metadata": {},
   "outputs": [
    {
     "data": {
      "text/plain": [
       "array([[[1, 2, 3]]])"
      ]
     },
     "execution_count": 416,
     "metadata": {},
     "output_type": "execute_result"
    }
   ],
   "source": [
    "np.expand_dims(a, axis = 0) # Expand shape by 1d"
   ]
  },
  {
   "cell_type": "code",
   "execution_count": 418,
   "id": "44c6abe9-ffbd-44e2-8dee-aed2308841a5",
   "metadata": {},
   "outputs": [
    {
     "data": {
      "text/plain": [
       "(1, 1, 3)"
      ]
     },
     "execution_count": 418,
     "metadata": {},
     "output_type": "execute_result"
    }
   ],
   "source": [
    "np.expand_dims(a, axis = 0).shape"
   ]
  },
  {
   "cell_type": "code",
   "execution_count": null,
   "id": "aaf81c29-be01-4ec5-af57-fa72729bb7ca",
   "metadata": {},
   "outputs": [],
   "source": []
  }
 ],
 "metadata": {
  "kernelspec": {
   "display_name": "Python 3 (ipykernel)",
   "language": "python",
   "name": "python3"
  },
  "language_info": {
   "codemirror_mode": {
    "name": "ipython",
    "version": 3
   },
   "file_extension": ".py",
   "mimetype": "text/x-python",
   "name": "python",
   "nbconvert_exporter": "python",
   "pygments_lexer": "ipython3",
   "version": "3.11.7"
  },
  "widgets": {
   "application/vnd.jupyter.widget-state+json": {
    "state": {},
    "version_major": 2,
    "version_minor": 0
   }
  }
 },
 "nbformat": 4,
 "nbformat_minor": 5
}
